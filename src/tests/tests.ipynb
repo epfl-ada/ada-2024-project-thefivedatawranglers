{
 "cells": [
  {
   "cell_type": "code",
   "execution_count": 5,
   "id": "initial_id",
   "metadata": {
    "collapsed": true,
    "ExecuteTime": {
     "end_time": "2024-12-04T13:27:41.763681600Z",
     "start_time": "2024-12-04T13:27:41.746948700Z"
    }
   },
   "outputs": [],
   "source": [
    "import pandas as pd\n",
    "from src.data.some_dataloader import *\n",
    "from collections import Counter"
   ]
  },
  {
   "cell_type": "code",
   "outputs": [],
   "source": [
    "df_ba_ratings, df_rb_ratings = load_rating_data(ba_path=\"../../data/BeerAdvocate/BA_ratings.csv\", rb_path=\"../../data/RateBeer/RB_ratings.csv\")"
   ],
   "metadata": {
    "collapsed": false,
    "is_executing": true,
    "ExecuteTime": {
     "start_time": "2024-12-04T13:19:12.802611300Z"
    }
   },
   "id": "3931fe2e0204ad85",
   "execution_count": null
  },
  {
   "cell_type": "code",
   "outputs": [
    {
     "data": {
      "text/plain": "       beer_name  beer_id                               brewery_name  \\\n0          Régab   142544  Societe des Brasseries du Gabon (SOBRAGA)   \n1  Barelegs Brew    19590       Strangford Lough Brewing Company Ltd   \n2  Barelegs Brew    19590       Strangford Lough Brewing Company Ltd   \n3  Barelegs Brew    19590       Strangford Lough Brewing Company Ltd   \n4  Barelegs Brew    19590       Strangford Lough Brewing Company Ltd   \n\n   brewery_id             style  abv        date        user_name  \\\n0       37262   Euro Pale Lager  4.5  1440064800          nmann08   \n1       10093  English Pale Ale  4.5  1235127600      StJamesGate   \n2       10093  English Pale Ale  4.5  1142247600          mdagnew   \n3       10093  English Pale Ale  4.5  1101898800  helloloser12345   \n4       10093  English Pale Ale  4.5  1093860000       cypressbob   \n\n                 user_id  appearance  aroma  palate  taste  overall  rating  \\\n0         nmann08.184925        3.25   2.75    3.25   2.75      3.0    2.88   \n1     stjamesgate.163714        3.00   3.50    3.50   4.00      3.5    3.67   \n2          mdagnew.19527        4.00   3.50    3.50   4.00      3.5    3.73   \n3  helloloser12345.10867        4.00   3.50    4.00   4.00      4.5    3.98   \n4        cypressbob.3708        4.00   4.00    4.00   4.00      4.0    4.00   \n\n                                                text  review  \n0  From a bottle, pours a piss yellow color with ...    True  \n1  Pours pale copper with a thin head that quickl...    True  \n2  500ml Bottle bought from The Vintage, Antrim.....    True  \n3  Serving: 500ml brown bottlePour: Good head wit...    True  \n4  500ml bottlePours with a light, slightly hazy ...    True  ",
      "text/html": "<div>\n<style scoped>\n    .dataframe tbody tr th:only-of-type {\n        vertical-align: middle;\n    }\n\n    .dataframe tbody tr th {\n        vertical-align: top;\n    }\n\n    .dataframe thead th {\n        text-align: right;\n    }\n</style>\n<table border=\"1\" class=\"dataframe\">\n  <thead>\n    <tr style=\"text-align: right;\">\n      <th></th>\n      <th>beer_name</th>\n      <th>beer_id</th>\n      <th>brewery_name</th>\n      <th>brewery_id</th>\n      <th>style</th>\n      <th>abv</th>\n      <th>date</th>\n      <th>user_name</th>\n      <th>user_id</th>\n      <th>appearance</th>\n      <th>aroma</th>\n      <th>palate</th>\n      <th>taste</th>\n      <th>overall</th>\n      <th>rating</th>\n      <th>text</th>\n      <th>review</th>\n    </tr>\n  </thead>\n  <tbody>\n    <tr>\n      <th>0</th>\n      <td>Régab</td>\n      <td>142544</td>\n      <td>Societe des Brasseries du Gabon (SOBRAGA)</td>\n      <td>37262</td>\n      <td>Euro Pale Lager</td>\n      <td>4.5</td>\n      <td>1440064800</td>\n      <td>nmann08</td>\n      <td>nmann08.184925</td>\n      <td>3.25</td>\n      <td>2.75</td>\n      <td>3.25</td>\n      <td>2.75</td>\n      <td>3.0</td>\n      <td>2.88</td>\n      <td>From a bottle, pours a piss yellow color with ...</td>\n      <td>True</td>\n    </tr>\n    <tr>\n      <th>1</th>\n      <td>Barelegs Brew</td>\n      <td>19590</td>\n      <td>Strangford Lough Brewing Company Ltd</td>\n      <td>10093</td>\n      <td>English Pale Ale</td>\n      <td>4.5</td>\n      <td>1235127600</td>\n      <td>StJamesGate</td>\n      <td>stjamesgate.163714</td>\n      <td>3.00</td>\n      <td>3.50</td>\n      <td>3.50</td>\n      <td>4.00</td>\n      <td>3.5</td>\n      <td>3.67</td>\n      <td>Pours pale copper with a thin head that quickl...</td>\n      <td>True</td>\n    </tr>\n    <tr>\n      <th>2</th>\n      <td>Barelegs Brew</td>\n      <td>19590</td>\n      <td>Strangford Lough Brewing Company Ltd</td>\n      <td>10093</td>\n      <td>English Pale Ale</td>\n      <td>4.5</td>\n      <td>1142247600</td>\n      <td>mdagnew</td>\n      <td>mdagnew.19527</td>\n      <td>4.00</td>\n      <td>3.50</td>\n      <td>3.50</td>\n      <td>4.00</td>\n      <td>3.5</td>\n      <td>3.73</td>\n      <td>500ml Bottle bought from The Vintage, Antrim.....</td>\n      <td>True</td>\n    </tr>\n    <tr>\n      <th>3</th>\n      <td>Barelegs Brew</td>\n      <td>19590</td>\n      <td>Strangford Lough Brewing Company Ltd</td>\n      <td>10093</td>\n      <td>English Pale Ale</td>\n      <td>4.5</td>\n      <td>1101898800</td>\n      <td>helloloser12345</td>\n      <td>helloloser12345.10867</td>\n      <td>4.00</td>\n      <td>3.50</td>\n      <td>4.00</td>\n      <td>4.00</td>\n      <td>4.5</td>\n      <td>3.98</td>\n      <td>Serving: 500ml brown bottlePour: Good head wit...</td>\n      <td>True</td>\n    </tr>\n    <tr>\n      <th>4</th>\n      <td>Barelegs Brew</td>\n      <td>19590</td>\n      <td>Strangford Lough Brewing Company Ltd</td>\n      <td>10093</td>\n      <td>English Pale Ale</td>\n      <td>4.5</td>\n      <td>1093860000</td>\n      <td>cypressbob</td>\n      <td>cypressbob.3708</td>\n      <td>4.00</td>\n      <td>4.00</td>\n      <td>4.00</td>\n      <td>4.00</td>\n      <td>4.0</td>\n      <td>4.00</td>\n      <td>500ml bottlePours with a light, slightly hazy ...</td>\n      <td>True</td>\n    </tr>\n  </tbody>\n</table>\n</div>"
     },
     "execution_count": 3,
     "metadata": {},
     "output_type": "execute_result"
    }
   ],
   "source": [
    "df_ba_ratings.head()"
   ],
   "metadata": {
    "collapsed": false,
    "ExecuteTime": {
     "end_time": "2024-12-04T13:21:48.975527800Z",
     "start_time": "2024-12-04T13:21:48.954126300Z"
    }
   },
   "id": "4cfd094df10de70a",
   "execution_count": 3
  },
  {
   "cell_type": "code",
   "outputs": [],
   "source": [
    "def split_ratings_by_threshold(df, user_id, upper_threshold, lower_threshold):\n",
    "    \"\"\"\n",
    "    Splits the ratings of a user into two DataFrames based on thresholds.\n",
    "    \n",
    "    Parameters:\n",
    "        df (pd.DataFrame): The DataFrame containing the ratings.\n",
    "        user_id (int or str): The ID of the user whose ratings are to be filtered.\n",
    "        upper_threshold (float): The threshold above which ratings are considered \"good\".\n",
    "        lower_threshold (float): The threshold below which ratings are considered \"bad\".\n",
    "        \n",
    "    Returns:\n",
    "        tuple: Two DataFrames - one for ratings >= upper_threshold, and one for ratings <= lower_threshold.\n",
    "    \"\"\"\n",
    "    # Filter DataFrame for the specific user\n",
    "    user_ratings = df[df['user_id'] == user_id]\n",
    "    \n",
    "    # Create a DataFrame for ratings >= upper_threshold\n",
    "    good_ratings = user_ratings[user_ratings['rating'] >= upper_threshold]\n",
    "    \n",
    "    # Create a DataFrame for ratings <= lower_threshold\n",
    "    bad_ratings = user_ratings[user_ratings['rating'] <= lower_threshold]\n",
    "    \n",
    "    return good_ratings, bad_ratings"
   ],
   "metadata": {
    "collapsed": false,
    "ExecuteTime": {
     "end_time": "2024-12-04T13:25:01.834110200Z",
     "start_time": "2024-12-04T13:25:01.819790Z"
    }
   },
   "id": "5d79d1caed68e00d",
   "execution_count": 4
  },
  {
   "cell_type": "code",
   "outputs": [],
   "source": [
    "def count_word_frequencies(df, text_column, word_list):\n",
    "    \"\"\"\n",
    "    Counts the frequencies of words from a given word list in a text column of a DataFrame.\n",
    "    \n",
    "    Parameters:\n",
    "        df (pd.DataFrame): The DataFrame containing the text column.\n",
    "        text_column (str): The name of the column that contains the text data.\n",
    "        word_list (list): A list of words whose frequencies should be counted.\n",
    "    \n",
    "    Returns:\n",
    "        dict: A dictionary with words as keys and their frequencies as values.\n",
    "    \"\"\"\n",
    "    # Combine all texts in the column into one large string\n",
    "    all_text = \" \".join(df[text_column].dropna()).lower()  # Convert to lowercase for consistent counting\n",
    "\n",
    "    # Tokenize the text (split into words)\n",
    "    words = all_text.split()\n",
    "    \n",
    "    # Filter only the words from the provided word list\n",
    "    filtered_words = [word for word in words if word in word_list]\n",
    "    \n",
    "    # Count the frequencies of the filtered words\n",
    "    word_frequencies = Counter(filtered_words)\n",
    "    \n",
    "    # Return the result as a dictionary\n",
    "    return dict(word_frequencies)"
   ],
   "metadata": {
    "collapsed": false
   },
   "id": "7aca558eab5169dc"
  },
  {
   "cell_type": "code",
   "outputs": [],
   "source": [
    "positive_words = [\n",
    "    \"malty\", \"hoppy\", \"fruity\", \"sweet\", \"smooth\", \"crisp\", \"refreshing\", \"balanced\",\n",
    "    \"caramel\", \"chocolatey\", \"nutty\", \"citrusy\", \"spicy\",\n",
    "    \"creamy\", \"full-bodied\", \"light\", \"dry\", \"velvety\",\n",
    "    \"excellent\", \"amazing\", \"delicious\", \"perfect\", \"great\", \"fantastic\", \"lovely\",\n",
    "    \"enjoyable\", \"favorite\", \"wonderful\", \n",
    "    \"classic\", \"authentic\", \"well-crafted\", \"artisanal\", \"clean\"\n",
    "]\n",
    "\n",
    "negative_words = [\n",
    "    \"bitter\", \"sour\", \"bland\", \"stale\", \"metallic\", \"burnt\", \"overpowering\", \n",
    "    \"flat\", \"watery\", \"cloying\", \"harsh\", \"astringent\",\n",
    "    \"thin\", \"weak\", \"overly carbonated\", \"unbalanced\",\n",
    "    \"bad\", \"disappointing\", \"boring\", \"unpleasant\", \"off-putting\", \"weird\", \n",
    "    \"mediocre\", \"not great\", \"subpar\", \"average\",\n",
    "    \"artificial\", \"generic\", \"industrial\", \"chemical\"\n",
    "]\n",
    "\n",
    "exp_words1 = [\n",
    "    \"Lacing\",\n",
    "    \"Ester\",\n",
    "    \"Diacetyl\",\n",
    "    \"Phenol\",\n",
    "    \"Dry Hop\",\n",
    "    \"DMS\",\n",
    "    \"Oxidation\",\n",
    "    \"catty\",\n",
    "    \"resinous\",\n",
    "    \"astringent\",\n",
    "    \"Effervescent\",\n",
    "    \"Tannic\",\n",
    "    \"Brettanomyces\",\n",
    "    \"lactic\",\n",
    "    \"autolysis\",\n",
    "    \"Krausen\",\n",
    "]\n",
    "\n",
    "words = list(set(positive_words + negative_words + exp_words1))"
   ],
   "metadata": {
    "collapsed": false,
    "ExecuteTime": {
     "end_time": "2024-12-04T13:36:22.947721800Z",
     "start_time": "2024-12-04T13:36:22.939569800Z"
    }
   },
   "id": "b943ab0b49b532aa",
   "execution_count": 6
  },
  {
   "cell_type": "code",
   "outputs": [
    {
     "name": "stdout",
     "output_type": "stream",
     "text": [
      "78\n"
     ]
    }
   ],
   "source": [
    "print(len(words))"
   ],
   "metadata": {
    "collapsed": false,
    "ExecuteTime": {
     "end_time": "2024-12-04T13:36:50.027508500Z",
     "start_time": "2024-12-04T13:36:50.016198900Z"
    }
   },
   "id": "9864d6efab7e6965",
   "execution_count": 7
  },
  {
   "cell_type": "markdown",
   "source": [
    "We see that we have a |L| of 78. Let's convert distributions to a latent space with a smaller dimension, so that we can later "
   ],
   "metadata": {
    "collapsed": false
   },
   "id": "bc0ffc78dba3abad"
  },
  {
   "cell_type": "code",
   "outputs": [],
   "source": [
    "def pre_stats(df, style, date):\n",
    "    df = df[df[\"date\"] < date]\n",
    "    mean = df[\"rating\"].mean()\n",
    "    style_mean = df[df[\"style\"] == style][\"rating\"].mean()\n",
    "    num_ratings = len(df)"
   ],
   "metadata": {
    "collapsed": false
   },
   "id": "2f22d798fa0fd847"
  },
  {
   "cell_type": "code",
   "outputs": [],
   "source": [
    "def is_experienced(user_id, exp_user_ids):\n",
    "    return user_id in exp_user_ids"
   ],
   "metadata": {
    "collapsed": false
   },
   "id": "9ae05d1a354b3bb8"
  },
  {
   "cell_type": "code",
   "outputs": [
    {
     "name": "stdout",
     "output_type": "stream",
     "text": [
      "['Euro Pale Lager' 'English Pale Ale' 'English Bitter'\n",
      " 'American Pale Wheat Ale' 'American Blonde Ale' 'Irish Red Ale'\n",
      " 'American Stout' 'American Pale Ale (APA)' 'Milk / Sweet Stout'\n",
      " 'American Double / Imperial IPA' 'German Pilsener' 'American IPA'\n",
      " 'Irish Dry Stout' 'Munich Helles Lager' 'English Brown Ale'\n",
      " 'English India Pale Ale (IPA)' 'English Porter' 'Saison / Farmhouse Ale'\n",
      " 'Foreign / Export Stout' 'Fruit / Vegetable Beer'\n",
      " 'American Double / Imperial Stout' 'American Porter'\n",
      " 'English Dark Mild Ale' 'Berliner Weissbier' 'Hefeweizen' 'English Stout'\n",
      " 'California Common / Steam Beer' 'American Black Ale'\n",
      " 'American Amber / Red Ale' 'Tripel' 'Kölsch' 'Altbier' 'Smoked Beer'\n",
      " 'Bière de Garde' 'Oatmeal Stout' 'Extra Special / Strong Bitter (ESB)'\n",
      " 'Rye Beer' 'Russian Imperial Stout' 'American Wild Ale' 'Winter Warmer'\n",
      " 'English Pale Mild Ale' 'Belgian Pale Ale' 'Belgian IPA' 'Czech Pilsener'\n",
      " 'Belgian Strong Pale Ale' 'Old Ale' 'Dunkelweizen' 'English Strong Ale'\n",
      " 'Schwarzbier' 'American Pale Lager' 'Baltic Porter' 'Witbier'\n",
      " 'Herbed / Spiced Beer' 'English Barleywine' 'Rauchbier' 'Vienna Lager'\n",
      " 'Scottish Ale' 'American Brown Ale' 'Scottish Gruit / Ancient Herbed Ale'\n",
      " 'Black & Tan' 'Gose' 'Märzen / Oktoberfest' 'Scotch Ale / Wee Heavy'\n",
      " 'Low Alcohol Beer' 'Kristalweizen' 'Doppelbock' 'Chile Beer'\n",
      " 'Euro Dark Lager' 'Sahti' 'Euro Strong Lager' 'American Strong Ale'\n",
      " 'Dubbel' 'Cream Ale' 'American Barleywine' 'Light Lager'\n",
      " 'Quadrupel (Quad)' 'Munich Dunkel Lager' 'Kellerbier / Zwickelbier'\n",
      " 'American Amber / Red Lager' 'American Dark Wheat Ale' 'Weizenbock'\n",
      " 'American Double / Imperial Pilsner' 'Belgian Strong Dark Ale'\n",
      " 'Lambic - Fruit' 'Eisbock' 'Braggot' 'Dortmunder / Export Lager'\n",
      " 'Pumpkin Ale' 'Bock' 'Belgian Dark Ale' 'Flanders Red Ale'\n",
      " 'Maibock / Helles Bock' 'Flanders Oud Bruin' 'American Adjunct Lager'\n",
      " 'American Malt Liquor' 'Kvass' 'Wheatwine' 'Gueuze' 'Roggenbier'\n",
      " 'Lambic - Unblended' 'Bière de Champagne / Bière Brut'\n",
      " 'Japanese Rice Lager' 'Happoshu' 'Faro']\n"
     ]
    }
   ],
   "source": [
    "print(df_ba_ratings[\"style\"].unique())"
   ],
   "metadata": {
    "collapsed": false,
    "ExecuteTime": {
     "end_time": "2024-12-04T14:22:10.452890700Z",
     "start_time": "2024-12-04T14:22:10.175022500Z"
    }
   },
   "id": "66baf5e49dac7363",
   "execution_count": 8
  },
  {
   "cell_type": "code",
   "outputs": [
    {
     "name": "stdout",
     "output_type": "stream",
     "text": [
      "104\n"
     ]
    }
   ],
   "source": [
    "print(len(df_ba_ratings[\"style\"].unique()))"
   ],
   "metadata": {
    "collapsed": false,
    "ExecuteTime": {
     "end_time": "2024-12-04T14:28:25.944066700Z",
     "start_time": "2024-12-04T14:28:25.499568100Z"
    }
   },
   "id": "31729dbdef6281fc",
   "execution_count": 13
  },
  {
   "cell_type": "code",
   "outputs": [],
   "source": [
    "def get_top_styles(df_ratings, threshold):\n",
    "    return df_ratings['style'].value_counts().head(threshold)"
   ],
   "metadata": {
    "collapsed": false,
    "ExecuteTime": {
     "end_time": "2024-12-04T14:47:03.163739900Z",
     "start_time": "2024-12-04T14:47:03.152635Z"
    }
   },
   "id": "bac671b3bd9f52b",
   "execution_count": 20
  },
  {
   "cell_type": "code",
   "outputs": [
    {
     "name": "stdout",
     "output_type": "stream",
     "text": [
      "style\n",
      "American IPA                           997814\n",
      "American Double / Imperial IPA         739982\n",
      "American Double / Imperial Stout       500265\n",
      "American Pale Ale (APA)                388139\n",
      "Saison / Farmhouse Ale                 301953\n",
      "American Wild Ale                      269132\n",
      "American Porter                        257758\n",
      "Russian Imperial Stout                 256330\n",
      "American Amber / Red Ale               202389\n",
      "Fruit / Vegetable Beer                 167968\n",
      "American Brown Ale                     126663\n",
      "Witbier                                124850\n",
      "American Stout                         124615\n",
      "Belgian Strong Dark Ale                123882\n",
      "American Strong Ale                    123066\n",
      "Tripel                                 114549\n",
      "Milk / Sweet Stout                     114248\n",
      "Belgian Strong Pale Ale                108466\n",
      "American Adjunct Lager                 107107\n",
      "American Pale Wheat Ale                106749\n",
      "Hefeweizen                             100584\n",
      "American Barleywine                    100453\n",
      "American Black Ale                      99954\n",
      "Pumpkin Ale                             96188\n",
      "Quadrupel (Quad)                        91305\n",
      "Belgian Pale Ale                        90435\n",
      "German Pilsener                         84794\n",
      "Märzen / Oktoberfest                    84078\n",
      "Oatmeal Stout                           82370\n",
      "Scotch Ale / Wee Heavy                  74784\n",
      "Belgian IPA                             74143\n",
      "American Blonde Ale                     68151\n",
      "English Pale Ale                        66986\n",
      "English Barleywine                      66741\n",
      "Berliner Weissbier                      65692\n",
      "English India Pale Ale (IPA)            63325\n",
      "Dubbel                                  63049\n",
      "American Pale Lager                     63038\n",
      "English Brown Ale                       59942\n",
      "Winter Warmer                           59463\n",
      "Old Ale                                 58787\n",
      "Doppelbock                              57741\n",
      "Euro Pale Lager                         56545\n",
      "Czech Pilsener                          56339\n",
      "Light Lager                             56181\n",
      "Lambic - Fruit                          54942\n",
      "Herbed / Spiced Beer                    53378\n",
      "Extra Special / Strong Bitter (ESB)     50340\n",
      "Baltic Porter                           47439\n",
      "Rye Beer                                45031\n",
      "Name: count, dtype: int64\n"
     ]
    }
   ],
   "source": [
    "print(get_top_styles(df_ba_ratings, threshold=50))"
   ],
   "metadata": {
    "collapsed": false,
    "ExecuteTime": {
     "end_time": "2024-12-04T14:55:35.947444900Z",
     "start_time": "2024-12-04T14:55:35.173995500Z"
    }
   },
   "id": "73ade342172c1714",
   "execution_count": 31
  },
  {
   "cell_type": "code",
   "outputs": [
    {
     "data": {
      "text/plain": "style\nAmerican IPA                        997814\nAmerican Double / Imperial IPA      739982\nAmerican Double / Imperial Stout    500265\nAmerican Pale Ale (APA)             388139\nSaison / Farmhouse Ale              301953\n                                     ...  \nLow Alcohol Beer                      3993\nSahti                                 3832\nJapanese Rice Lager                   3827\nBière de Champagne / Bière Brut       3348\nEnglish Pale Mild Ale                 2443\nName: count, Length: 100, dtype: int64"
     },
     "execution_count": 32,
     "metadata": {},
     "output_type": "execute_result"
    }
   ],
   "source": [
    "get_top_styles(df_ba_ratings, threshold=100)"
   ],
   "metadata": {
    "collapsed": false,
    "ExecuteTime": {
     "end_time": "2024-12-04T14:55:41.732865400Z",
     "start_time": "2024-12-04T14:55:41.217565900Z"
    }
   },
   "id": "d2841f5f3b397de4",
   "execution_count": 32
  },
  {
   "cell_type": "markdown",
   "source": [
    "We see that there is strong drop in the first few beer styles and then it knd of flattens out. The strongest drop can be seen in the first 3 categories. Therefore, we take these beer styles as their own categories, while grouping the others."
   ],
   "metadata": {
    "collapsed": false
   },
   "id": "e6baa754351cc958"
  },
  {
   "cell_type": "code",
   "outputs": [],
   "source": [
    "import pandas as pd\n",
    "\n",
    "def categorize_beer_styles(df):\n",
    "    # Definiere die Kategorien\n",
    "    categories = {\n",
    "        \"Lager\": [\"Euro Pale Lager\", \"German Pilsener\", \"Munich Helles Lager\", \"Czech Pilsener\", \n",
    "                  \"Vienna Lager\", \"Light Lager\", \"Munich Dunkel Lager\", \"Schwarzbier\", \n",
    "                  \"Euro Dark Lager\", \"Märzen / Oktoberfest\", \"Doppelbock\", \"Eisbock\", \n",
    "                  \"Maibock / Helles Bock\", \"Baltic Porter\", \"Euro Strong Lager\"],\n",
    "        \"Ale\": [\"English Pale Ale\", \"American Pale Ale (APA)\", \"English Bitter\", \"Extra Special / Strong Bitter (ESB)\", \n",
    "                \"Belgian Pale Ale\", \"Irish Red Ale\", \"American Amber / Red Ale\", \"Scottish Ale\", \n",
    "                \"English Brown Ale\", \"American Brown Ale\", \"Old Ale\", \"English Strong Ale\", \n",
    "                \"American Strong Ale\", \"Scotch Ale / Wee Heavy\", \"English Barleywine\", \n",
    "                \"American Barleywine\", \"Belgian Dark Ale\", \"Belgian Strong Dark Ale\", \n",
    "                \"Quadrupel (Quad)\", \"Dubbel\", \"Tripel\"],\n",
    "        \"IPA\": [\"English India Pale Ale (IPA)\", \"American IPA\", \"American Double / Imperial IPA\", \"Belgian IPA\"],\n",
    "        \"Stout\": [\"Irish Dry Stout\", \"Milk / Sweet Stout\", \"Oatmeal Stout\", \"Foreign / Export Stout\", \n",
    "                  \"Russian Imperial Stout\", \"American Stout\", \"English Stout\"],\n",
    "        \"Porter\": [\"English Porter\", \"American Porter\", \"Baltic Porter\"],\n",
    "        \"Wheat Beer\": [\"Hefeweizen\", \"Kristalweizen\", \"Dunkelweizen\", \"Weizenbock\", \"Witbier\", \n",
    "                       \"Berliner Weissbier\", \"Gose\", \"Roggenbier\"],\n",
    "        \"Belgian Styles\": [\"Saison / Farmhouse Ale\", \"Bière de Garde\", \"Lambic - Fruit\", \n",
    "                            \"Lambic - Unblended\", \"Gueuze\", \"Faro\"],\n",
    "        \"Specialty\": [\"Smoked Beer\", \"Herbed / Spiced Beer\", \"Pumpkin Ale\", \"Chile Beer\", \n",
    "                      \"Scottish Gruit / Ancient Herbed Ale\", \"American Wild Ale\", \"Bière de Champagne / Bière Brut\", \n",
    "                      \"Wheatwine\", \"Sahti\", \"Kvass\", \"Braggot\"],\n",
    "        \"Hybrid\": [\"Kölsch\", \"Altbier\", \"California Common / Steam Beer\", \"Cream Ale\"],\n",
    "        \"Light/Low Alcohol\": [\"Low Alcohol Beer\", \"American Adjunct Lager\", \"American Pale Lager\", \n",
    "                               \"Japanese Rice Lager\", \"Happoshu\"]\n",
    "    }\n",
    "\n",
    "    # Find the 3 most frequent beer styles\n",
    "    top_styles = df['style'].value_counts().nlargest(3).index.tolist()\n",
    "\n",
    "    # Replace beer styles with their categories, except for the top 3 styles\n",
    "    def map_to_category(style):\n",
    "        if style in top_styles:\n",
    "            return style\n",
    "        for category, styles in categories.items():\n",
    "            if style in styles:\n",
    "                return category\n",
    "        return \"Other\"  # Catch-all for uncategorized styles\n",
    "\n",
    "    # Apply the mapping\n",
    "    df['style'] = df['style'].apply(map_to_category)\n",
    "    return df"
   ],
   "metadata": {
    "collapsed": false,
    "ExecuteTime": {
     "end_time": "2024-12-04T14:57:39.434187300Z",
     "start_time": "2024-12-04T14:57:39.419918300Z"
    }
   },
   "id": "198267d96917664a",
   "execution_count": 33
  },
  {
   "cell_type": "code",
   "outputs": [],
   "source": [
    "df_ba_ratings_categorized = categorize_beer_styles(df_ba_ratings)"
   ],
   "metadata": {
    "collapsed": false,
    "ExecuteTime": {
     "end_time": "2024-12-04T14:57:45.335151Z",
     "start_time": "2024-12-04T14:57:40.308661800Z"
    }
   },
   "id": "309ee13befbb662c",
   "execution_count": 34
  },
  {
   "cell_type": "code",
   "outputs": [
    {
     "data": {
      "text/plain": "       beer_name  beer_id                               brewery_name  \\\n0          Régab   142544  Societe des Brasseries du Gabon (SOBRAGA)   \n1  Barelegs Brew    19590       Strangford Lough Brewing Company Ltd   \n2  Barelegs Brew    19590       Strangford Lough Brewing Company Ltd   \n3  Barelegs Brew    19590       Strangford Lough Brewing Company Ltd   \n4  Barelegs Brew    19590       Strangford Lough Brewing Company Ltd   \n\n   brewery_id  style  abv        date        user_name                user_id  \\\n0       37262  Lager  4.5  1440064800          nmann08         nmann08.184925   \n1       10093    Ale  4.5  1235127600      StJamesGate     stjamesgate.163714   \n2       10093    Ale  4.5  1142247600          mdagnew          mdagnew.19527   \n3       10093    Ale  4.5  1101898800  helloloser12345  helloloser12345.10867   \n4       10093    Ale  4.5  1093860000       cypressbob        cypressbob.3708   \n\n   appearance  aroma  palate  taste  overall  rating  \\\n0        3.25   2.75    3.25   2.75      3.0    2.88   \n1        3.00   3.50    3.50   4.00      3.5    3.67   \n2        4.00   3.50    3.50   4.00      3.5    3.73   \n3        4.00   3.50    4.00   4.00      4.5    3.98   \n4        4.00   4.00    4.00   4.00      4.0    4.00   \n\n                                                text  review  \n0  From a bottle, pours a piss yellow color with ...    True  \n1  Pours pale copper with a thin head that quickl...    True  \n2  500ml Bottle bought from The Vintage, Antrim.....    True  \n3  Serving: 500ml brown bottlePour: Good head wit...    True  \n4  500ml bottlePours with a light, slightly hazy ...    True  ",
      "text/html": "<div>\n<style scoped>\n    .dataframe tbody tr th:only-of-type {\n        vertical-align: middle;\n    }\n\n    .dataframe tbody tr th {\n        vertical-align: top;\n    }\n\n    .dataframe thead th {\n        text-align: right;\n    }\n</style>\n<table border=\"1\" class=\"dataframe\">\n  <thead>\n    <tr style=\"text-align: right;\">\n      <th></th>\n      <th>beer_name</th>\n      <th>beer_id</th>\n      <th>brewery_name</th>\n      <th>brewery_id</th>\n      <th>style</th>\n      <th>abv</th>\n      <th>date</th>\n      <th>user_name</th>\n      <th>user_id</th>\n      <th>appearance</th>\n      <th>aroma</th>\n      <th>palate</th>\n      <th>taste</th>\n      <th>overall</th>\n      <th>rating</th>\n      <th>text</th>\n      <th>review</th>\n    </tr>\n  </thead>\n  <tbody>\n    <tr>\n      <th>0</th>\n      <td>Régab</td>\n      <td>142544</td>\n      <td>Societe des Brasseries du Gabon (SOBRAGA)</td>\n      <td>37262</td>\n      <td>Lager</td>\n      <td>4.5</td>\n      <td>1440064800</td>\n      <td>nmann08</td>\n      <td>nmann08.184925</td>\n      <td>3.25</td>\n      <td>2.75</td>\n      <td>3.25</td>\n      <td>2.75</td>\n      <td>3.0</td>\n      <td>2.88</td>\n      <td>From a bottle, pours a piss yellow color with ...</td>\n      <td>True</td>\n    </tr>\n    <tr>\n      <th>1</th>\n      <td>Barelegs Brew</td>\n      <td>19590</td>\n      <td>Strangford Lough Brewing Company Ltd</td>\n      <td>10093</td>\n      <td>Ale</td>\n      <td>4.5</td>\n      <td>1235127600</td>\n      <td>StJamesGate</td>\n      <td>stjamesgate.163714</td>\n      <td>3.00</td>\n      <td>3.50</td>\n      <td>3.50</td>\n      <td>4.00</td>\n      <td>3.5</td>\n      <td>3.67</td>\n      <td>Pours pale copper with a thin head that quickl...</td>\n      <td>True</td>\n    </tr>\n    <tr>\n      <th>2</th>\n      <td>Barelegs Brew</td>\n      <td>19590</td>\n      <td>Strangford Lough Brewing Company Ltd</td>\n      <td>10093</td>\n      <td>Ale</td>\n      <td>4.5</td>\n      <td>1142247600</td>\n      <td>mdagnew</td>\n      <td>mdagnew.19527</td>\n      <td>4.00</td>\n      <td>3.50</td>\n      <td>3.50</td>\n      <td>4.00</td>\n      <td>3.5</td>\n      <td>3.73</td>\n      <td>500ml Bottle bought from The Vintage, Antrim.....</td>\n      <td>True</td>\n    </tr>\n    <tr>\n      <th>3</th>\n      <td>Barelegs Brew</td>\n      <td>19590</td>\n      <td>Strangford Lough Brewing Company Ltd</td>\n      <td>10093</td>\n      <td>Ale</td>\n      <td>4.5</td>\n      <td>1101898800</td>\n      <td>helloloser12345</td>\n      <td>helloloser12345.10867</td>\n      <td>4.00</td>\n      <td>3.50</td>\n      <td>4.00</td>\n      <td>4.00</td>\n      <td>4.5</td>\n      <td>3.98</td>\n      <td>Serving: 500ml brown bottlePour: Good head wit...</td>\n      <td>True</td>\n    </tr>\n    <tr>\n      <th>4</th>\n      <td>Barelegs Brew</td>\n      <td>19590</td>\n      <td>Strangford Lough Brewing Company Ltd</td>\n      <td>10093</td>\n      <td>Ale</td>\n      <td>4.5</td>\n      <td>1093860000</td>\n      <td>cypressbob</td>\n      <td>cypressbob.3708</td>\n      <td>4.00</td>\n      <td>4.00</td>\n      <td>4.00</td>\n      <td>4.00</td>\n      <td>4.0</td>\n      <td>4.00</td>\n      <td>500ml bottlePours with a light, slightly hazy ...</td>\n      <td>True</td>\n    </tr>\n  </tbody>\n</table>\n</div>"
     },
     "execution_count": 35,
     "metadata": {},
     "output_type": "execute_result"
    }
   ],
   "source": [
    "df_ba_ratings_categorized.head()"
   ],
   "metadata": {
    "collapsed": false,
    "ExecuteTime": {
     "end_time": "2024-12-04T14:57:46.223057100Z",
     "start_time": "2024-12-04T14:57:46.209575Z"
    }
   },
   "id": "7c16857ec2d099b3",
   "execution_count": 35
  },
  {
   "cell_type": "code",
   "outputs": [
    {
     "data": {
      "text/plain": "style\nAle                                 1926279\nAmerican IPA                         997814\nOther                                898540\nAmerican Double / Imperial IPA       739982\nStout                                655963\nLager                                629722\nAmerican Double / Imperial Stout     500265\nSpecialty                            496980\nBelgian Styles                       428267\nWheat Beer                           390873\nPorter                               298594\nLight/Low Alcohol                    178592\nIPA                                  137468\nHybrid                               113693\nName: count, dtype: int64"
     },
     "execution_count": 40,
     "metadata": {},
     "output_type": "execute_result"
    }
   ],
   "source": [
    "df_ba_ratings_categorized[\"style\"].value_counts()"
   ],
   "metadata": {
    "collapsed": false,
    "ExecuteTime": {
     "end_time": "2024-12-04T14:58:30.018958800Z",
     "start_time": "2024-12-04T14:58:30.015839200Z"
    }
   },
   "id": "472bb86eebde0734",
   "execution_count": 40
  },
  {
   "cell_type": "code",
   "outputs": [],
   "source": [],
   "metadata": {
    "collapsed": false
   },
   "id": "8a7b49c0d59591a9"
  }
 ],
 "metadata": {
  "kernelspec": {
   "display_name": "Python 3",
   "language": "python",
   "name": "python3"
  },
  "language_info": {
   "codemirror_mode": {
    "name": "ipython",
    "version": 2
   },
   "file_extension": ".py",
   "mimetype": "text/x-python",
   "name": "python",
   "nbconvert_exporter": "python",
   "pygments_lexer": "ipython2",
   "version": "2.7.6"
  }
 },
 "nbformat": 4,
 "nbformat_minor": 5
}
