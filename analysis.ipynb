{
 "cells": [
  {
   "cell_type": "markdown",
   "id": "579b567a-2b80-4bf1-8cc1-c514da76ca50",
   "metadata": {},
   "source": [
    "# ADA - Project Milestone P2\n",
    "The jupyter notebook presenting our initial results."
   ]
  },
  {
   "cell_type": "code",
   "outputs": [],
   "source": [
    "import pandas as pd\n",
    "import matplotlib.pyplot as plt\n",
    "import seaborn as sns"
   ],
   "metadata": {
    "collapsed": false,
    "ExecuteTime": {
     "end_time": "2024-10-21T16:05:08.132713900Z",
     "start_time": "2024-10-21T16:05:08.127242700Z"
    }
   },
   "id": "f8b5ab34a0b064ad",
   "execution_count": 41
  },
  {
   "cell_type": "code",
   "outputs": [],
   "source": [
    "# general helpers\n",
    "def ratio_to_percentage(ratio):\n",
    "    \"\"\"\n",
    "    \n",
    "    :param ratio: a number between 0 and 1\n",
    "    :return: the corresponding percentage with two decimal places\n",
    "    \"\"\"\n",
    "    return round(ratio * 100, 2)"
   ],
   "metadata": {
    "collapsed": false,
    "ExecuteTime": {
     "end_time": "2024-10-21T16:05:08.443872600Z",
     "start_time": "2024-10-21T16:05:08.440616400Z"
    }
   },
   "id": "c524663ee9eec419",
   "execution_count": 42
  },
  {
   "cell_type": "code",
   "outputs": [],
   "source": [
    "df_ba_users = pd.read_csv(\"data/BeerAdvocate/users.csv\")\n",
    "df_rb_users = pd.read_csv(\"data/RateBeer/users.csv\")\n",
    "\n",
    "exp_threshold = 15\n",
    "\n",
    "df_ba_experienced_users = df_ba_users[df_ba_users[\"nbr_ratings\"] > exp_threshold]\n",
    "df_rb_experienced_users = df_ba_users[df_ba_users[\"nbr_ratings\"] > exp_threshold]"
   ],
   "metadata": {
    "collapsed": false,
    "ExecuteTime": {
     "end_time": "2024-10-21T16:05:09.059340100Z",
     "start_time": "2024-10-21T16:05:08.781528100Z"
    }
   },
   "id": "b339cd6de35b4c0",
   "execution_count": 43
  },
  {
   "cell_type": "markdown",
   "source": [],
   "metadata": {
    "collapsed": false
   },
   "id": "70671a7a93601748"
  },
  {
   "cell_type": "code",
   "outputs": [
    {
     "name": "stdout",
     "output_type": "stream",
     "text": [
      "By filtering the datasets, we lost 74.84% (115025/153704) of the beer advocate dataset\n",
      "By filtering the datasets, we lost 44.88% (31495/70174) of the beer advocate dataset\n",
      "Taking both datasets in account we lost 65.45% (146520/108853) of the users\n"
     ]
    }
   ],
   "source": [
    "num_users_ba = len(df_ba_users)\n",
    "num_exp_users_ba = len(df_ba_experienced_users)\n",
    "num_users_rb = len(df_rb_users)\n",
    "num_exp_users_rb = len(df_rb_experienced_users)\n",
    "\n",
    "perc_ba = 100 - ratio_to_percentage(num_exp_users_ba / num_users_ba)\n",
    "print(\"By filtering the datasets, we lost \" + str(perc_ba) + \"% (\" + str(num_users_ba - num_exp_users_ba) + \"/\" + str(num_users_ba) + \")\" + \" of the beer advocate dataset\")\n",
    "\n",
    "perc_rb = 100 - ratio_to_percentage(num_exp_users_rb / num_users_rb)\n",
    "print(\"By filtering the datasets, we lost \" + str(perc_rb) + \"% (\" + str(num_users_rb - num_exp_users_rb) + \"/\" + str(num_users_rb) + \")\" + \" of the beer advocate dataset\")\n",
    "\n",
    "perc_both = round((num_users_ba / (num_users_ba + num_users_rb)) * perc_ba + (num_users_rb  / (num_users_rb + num_users_ba)) * perc_rb, 2)\n",
    "print(\"Taking both datasets in account we lost \" + str(perc_both) + \"% (\" + str(num_users_ba + num_users_rb - num_exp_users_ba - num_exp_users_rb) + \"/\" + str(num_exp_users_ba + num_users_rb) + \")\" + \" of the users\")"
   ],
   "metadata": {
    "collapsed": false,
    "ExecuteTime": {
     "end_time": "2024-10-21T16:05:10.040440Z",
     "start_time": "2024-10-21T16:05:10.035794300Z"
    }
   },
   "id": "ee33aa5195ce2b66",
   "execution_count": 44
  },
  {
   "cell_type": "markdown",
   "source": [
    "# Does the reviewer's rating change over time"
   ],
   "metadata": {
    "collapsed": false
   },
   "id": "4f3e0ee294360db7"
  },
  {
   "cell_type": "code",
   "execution_count": 4,
   "id": "620f46cc",
   "metadata": {
    "ExecuteTime": {
     "end_time": "2024-10-18T10:39:50.456507300Z",
     "start_time": "2024-10-18T10:39:50.452251500Z"
    }
   },
   "outputs": [],
   "source": [
    "# "
   ]
  }
 ],
 "metadata": {
  "kernelspec": {
   "display_name": "ada",
   "language": "python",
   "name": "python3"
  },
  "language_info": {
   "codemirror_mode": {
    "name": "ipython",
    "version": 3
   },
   "file_extension": ".py",
   "mimetype": "text/x-python",
   "name": "python",
   "nbconvert_exporter": "python",
   "pygments_lexer": "ipython3",
   "version": "3.11.9"
  }
 },
 "nbformat": 4,
 "nbformat_minor": 5
}
