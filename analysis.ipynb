{
 "cells": [
  {
   "cell_type": "markdown",
   "id": "579b567a-2b80-4bf1-8cc1-c514da76ca50",
   "metadata": {},
   "source": [
    "# ADA - Project Milestone P2\n",
    "The jupyter notebook presenting our initial results."
   ]
  },
  {
   "cell_type": "code",
   "outputs": [],
   "source": [
    "import pandas as pd\n",
    "import matplotlib.pyplot as plt\n",
    "import seaborn as sns"
   ],
   "metadata": {
    "collapsed": false,
    "ExecuteTime": {
     "end_time": "2024-10-21T14:33:10.887180600Z",
     "start_time": "2024-10-21T14:33:10.884528400Z"
    }
   },
   "id": "f8b5ab34a0b064ad",
   "execution_count": 19
  },
  {
   "cell_type": "code",
   "outputs": [],
   "source": [
    "# general helpers\n",
    "def ratio_to_percentage(ratio):\n",
    "    \"\"\"\n",
    "    \n",
    "    :param ratio: a number between 0 and 1\n",
    "    :return: the corresponding percentage with two decimal places\n",
    "    \"\"\"\n",
    "    return round(ratio * 100, 2)"
   ],
   "metadata": {
    "collapsed": false,
    "ExecuteTime": {
     "end_time": "2024-10-21T14:33:11.132045600Z",
     "start_time": "2024-10-21T14:33:11.128037300Z"
    }
   },
   "id": "c524663ee9eec419",
   "execution_count": 20
  },
  {
   "cell_type": "code",
   "outputs": [],
   "source": [
    "df_ba_users = pd.read_csv(\"data/BeerAdvocate/users.csv\")\n",
    "df_rb_users = pd.read_csv(\"data/RateBeer/users.csv\")\n",
    "\n",
    "df_ba_experienced_users = df_ba_users[df_ba_users[\"nbr_ratings\"] > 20]\n",
    "df_rb_experienced_users = df_ba_users[df_ba_users[\"nbr_ratings\"] > 20]"
   ],
   "metadata": {
    "collapsed": false,
    "ExecuteTime": {
     "end_time": "2024-10-21T14:39:44.492986900Z",
     "start_time": "2024-10-21T14:39:44.246531600Z"
    }
   },
   "id": "b339cd6de35b4c0",
   "execution_count": 26
  },
  {
   "cell_type": "markdown",
   "source": [],
   "metadata": {
    "collapsed": false
   },
   "id": "70671a7a93601748"
  },
  {
   "cell_type": "code",
   "outputs": [
    {
     "name": "stdout",
     "output_type": "stream",
     "text": [
      "By filtering the datasets, we lost 77.95% of the beer advocate dataset\n",
      "By filtering the datasets, we lost 51.71% of the beer rate beer dataset\n",
      "Taking both datasets in account we lost 69.72513753026202 of the users\n"
     ]
    }
   ],
   "source": [
    "perc_ba = 100 - ratio_to_percentage(len(df_ba_experienced_users ) / len(df_ba_users))\n",
    "print(\"By filtering the datasets, we lost \" + str(perc_ba) + \"% of the beer advocate dataset\")\n",
    "\n",
    "perc_rb = 100 - ratio_to_percentage(len(df_rb_experienced_users ) / len(df_rb_users))\n",
    "print(\"By filtering the datasets, we lost \" + str(perc_rb) + \"% of the beer rate beer dataset\")\n",
    "\n",
    "perc_both = (len(df_ba_users) / (len(df_ba_users) + len(df_rb_users))) * perc_ba + (len(df_rb_users) / (len(df_rb_users) + len(df_ba_users))) * perc_rb\n",
    "print(\"Taking both datasets in account we lost \" + str(perc_both) + \" of the users\")"
   ],
   "metadata": {
    "collapsed": false,
    "ExecuteTime": {
     "end_time": "2024-10-21T14:40:14.319105300Z",
     "start_time": "2024-10-21T14:40:14.298373700Z"
    }
   },
   "id": "ee33aa5195ce2b66",
   "execution_count": 28
  },
  {
   "cell_type": "markdown",
   "source": [
    "# Does the reviewer's rating change over time"
   ],
   "metadata": {
    "collapsed": false
   },
   "id": "4f3e0ee294360db7"
  },
  {
   "cell_type": "code",
   "execution_count": 4,
   "id": "620f46cc",
   "metadata": {
    "ExecuteTime": {
     "end_time": "2024-10-18T10:39:50.456507300Z",
     "start_time": "2024-10-18T10:39:50.452251500Z"
    }
   },
   "outputs": [],
   "source": [
    "# "
   ]
  }
 ],
 "metadata": {
  "kernelspec": {
   "display_name": "ada",
   "language": "python",
   "name": "python3"
  },
  "language_info": {
   "codemirror_mode": {
    "name": "ipython",
    "version": 3
   },
   "file_extension": ".py",
   "mimetype": "text/x-python",
   "name": "python",
   "nbconvert_exporter": "python",
   "pygments_lexer": "ipython3",
   "version": "3.11.9"
  }
 },
 "nbformat": 4,
 "nbformat_minor": 5
}
