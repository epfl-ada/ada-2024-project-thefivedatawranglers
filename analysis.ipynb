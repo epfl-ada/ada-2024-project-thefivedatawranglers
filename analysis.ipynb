{
 "cells": [
  {
   "cell_type": "markdown",
   "id": "579b567a-2b80-4bf1-8cc1-c514da76ca50",
   "metadata": {},
   "source": [
    "# ADA - Project Milestone P2\n",
    "The jupyter notebook presenting our initial results."
   ]
  },
  {
   "cell_type": "code",
   "outputs": [],
   "source": [
    "import pandas as pd\n",
    "import matplotlib.pyplot as plt\n",
    "import seaborn as sns"
   ],
   "metadata": {
    "collapsed": false,
    "ExecuteTime": {
     "end_time": "2024-10-28T12:09:18.844892200Z",
     "start_time": "2024-10-28T12:09:18.839881200Z"
    }
   },
   "id": "f8b5ab34a0b064ad",
   "execution_count": 1
  },
  {
   "cell_type": "code",
   "outputs": [],
   "source": [
    "# general helpers\n",
    "def ratio_to_percentage(ratio):\n",
    "    \"\"\"\n",
    "    \n",
    "    :param ratio: a number between 0 and 1\n",
    "    :return: the corresponding percentage with two decimal places\n",
    "    \"\"\"\n",
    "    return round(ratio * 100, 2)"
   ],
   "metadata": {
    "collapsed": false,
    "ExecuteTime": {
     "end_time": "2024-10-28T12:09:18.856905200Z",
     "start_time": "2024-10-28T12:09:18.844892200Z"
    }
   },
   "id": "c524663ee9eec419",
   "execution_count": 2
  },
  {
   "cell_type": "code",
   "outputs": [],
   "source": [
    "df_ba_users = pd.read_csv(\"data/BeerAdvocate/users.csv\")\n",
    "df_rb_users = pd.read_csv(\"data/RateBeer/users.csv\")\n",
    "\n",
    "exp_threshold = 15\n",
    "\n",
    "df_ba_experienced_users = df_ba_users[df_ba_users[\"nbr_ratings\"] > exp_threshold]\n",
    "df_rb_experienced_users = df_rb_users[df_rb_users[\"nbr_ratings\"] > exp_threshold]"
   ],
   "metadata": {
    "collapsed": false,
    "ExecuteTime": {
     "end_time": "2024-10-28T12:09:19.182998Z",
     "start_time": "2024-10-28T12:09:18.852906Z"
    }
   },
   "id": "b339cd6de35b4c0",
   "execution_count": 3
  },
  {
   "cell_type": "markdown",
   "source": [],
   "metadata": {
    "collapsed": false
   },
   "id": "70671a7a93601748"
  },
  {
   "cell_type": "code",
   "outputs": [
    {
     "name": "stdout",
     "output_type": "stream",
     "text": [
      "By filtering the datasets, we lost 74.84% (115025/153704) of the beer advocate dataset\n",
      "By filtering the datasets, we lost 80.22% (56295/70174) of the rate beer dataset\n",
      "Taking both datasets in account we lost 76.53% (171320/108853) of the users\n"
     ]
    }
   ],
   "source": [
    "num_users_ba = len(df_ba_users)\n",
    "num_exp_users_ba = len(df_ba_experienced_users)\n",
    "num_users_rb = len(df_rb_users)\n",
    "num_exp_users_rb = len(df_rb_experienced_users)\n",
    "\n",
    "perc_ba = 100 - ratio_to_percentage(num_exp_users_ba / num_users_ba)\n",
    "print(\"By filtering the datasets, we lost \" + str(perc_ba) + \"% (\" + str(num_users_ba - num_exp_users_ba) + \"/\" + str(num_users_ba) + \")\" + \" of the beer advocate dataset\")\n",
    "\n",
    "perc_rb = 100 - ratio_to_percentage(num_exp_users_rb / num_users_rb)\n",
    "print(\"By filtering the datasets, we lost \" + str(perc_rb) + \"% (\" + str(num_users_rb - num_exp_users_rb) + \"/\" + str(num_users_rb) + \")\" + \" of the rate beer dataset\")\n",
    "\n",
    "perc_both = round((num_users_ba / (num_users_ba + num_users_rb)) * perc_ba + (num_users_rb  / (num_users_rb + num_users_ba)) * perc_rb, 2)\n",
    "print(\"Taking both datasets in account we lost \" + str(perc_both) + \"% (\" + str(num_users_ba + num_users_rb - num_exp_users_ba - num_exp_users_rb) + \"/\" + str(num_exp_users_ba + num_users_rb) + \")\" + \" of the users\")"
   ],
   "metadata": {
    "collapsed": false,
    "ExecuteTime": {
     "end_time": "2024-10-28T12:09:19.196255Z",
     "start_time": "2024-10-28T12:09:19.189001600Z"
    }
   },
   "id": "ee33aa5195ce2b66",
   "execution_count": 4
  },
  {
   "cell_type": "markdown",
   "source": [
    "# Does the reviewer's rating change over time"
   ],
   "metadata": {
    "collapsed": false
   },
   "id": "4f3e0ee294360db7"
  },
  {
   "cell_type": "code",
   "execution_count": 5,
   "id": "620f46cc",
   "metadata": {
    "ExecuteTime": {
     "end_time": "2024-10-28T12:09:19.205766700Z",
     "start_time": "2024-10-28T12:09:19.196761Z"
    }
   },
   "outputs": [],
   "source": [
    "# "
   ]
  },
  {
   "metadata": {},
   "cell_type": "markdown",
   "source": "# Does the reviewer's rating change for the 10 most popular beers based on the number of reviews given\n",
   "id": "9bc90e4212c88acd"
  },
  {
   "metadata": {},
   "cell_type": "code",
   "outputs": [],
   "execution_count": null,
   "source": [
    "#Data of interest for this part:\n",
    "#For the ratings per beer\n",
    "df_matched_ratings_beers = pd.read_csv(r'matched_beer_data\\ratings.csv', low_memory=False)\n",
    "#For the number of given ratings per reviewer\n",
    "users = pd.read_csv(r'matched_beer_data\\users.csv')"
   ],
   "id": "ca785fa118d91ebf"
  },
  {
   "metadata": {},
   "cell_type": "code",
   "outputs": [],
   "execution_count": null,
   "source": [
    "#Filtering of df_matched_ratings_beers (1), users (2) and merging the 2 df.\n",
    "\n",
    "#1) The following code creates a new datasets that includes ratings, user_id and beer_name. The dataset is filtered from nan values and its 'object(1)' type od ratings are converted to numerical values.\n",
    "filtered_df_ratings_beers = df_matched_ratings_beers.dropna()\n",
    "\n",
    "filtered_overall_beers_ratings_df = pd.DataFrame ({\n",
    "    'user_id': filtered_df_ratings_beers['ba.15'],\n",
    "    'ratings': filtered_df_ratings_beers['ba.8'],\n",
    "    'beer_id': filtered_df_ratings_beers['ba.4']\n",
    "})\n",
    "\n",
    "Overall_userid_beers_ratings_df= filtered_overall_beers_ratings_df.drop(0) #Removing first string row which holds no values\n",
    "\n",
    "Overall_userid_beers_ratings_df['ratings'] = pd.to_numeric(Overall_userid_beers_ratings_df['ratings'], errors='coerce')\n",
    "print(Overall_userid_beers_ratings_df['ratings'].info())\n",
    "\n",
    "#2) Filtering of the users dataset and merging with the Overall_userid_beers_ratings_df via users_id\n",
    "\n",
    "#Creating a separate df containing only the wanted columns of ba.2 (nbr_ratings), ba.4 (user_id)\n",
    "users_df = pd.DataFrame ({\n",
    "    'nb_ratings': users['ba.2'],\n",
    "    'user_id': users['ba.4']\n",
    "})\n",
    "users_df= users_df.drop(0) #Removing first string row which holds no values\n",
    "\n",
    "#With this new dataframe created, now the aim is to merge it with the Trappistes_Rochefort_10_ratings df using the 'user_id' column\n",
    "ratings_reviews_merged = pd.merge(users_df, Overall_userid_beers_ratings_df, on='user_id')\n",
    "\n",
    "#Not all values seemed to be numerical, a convertion, using 'pd.to_numeric' is necessary. \n",
    "ratings_reviews_merged['nb_ratings'] = pd.to_numeric(ratings_reviews_merged['nb_ratings'], errors='coerce')\n",
    "#'.info' shows that the nb_ratings column now contains inter64."
   ],
   "id": "2dd3c3496b18fed8"
  },
  {
   "metadata": {},
   "cell_type": "code",
   "outputs": [],
   "execution_count": null,
   "source": [
    "#In the following code, the objective is to work on the 10 most popular beer types and see if a difference of ratings between experienced (defined as a certain amount of given ratings) and new reviewers can be seen per type of beer. This also aims to see which type of reviewer (new/experienced) dominates the ratings for a small sample of beers. the most reviewed beers were selected (defined as the most popular from the BeerAdvocate dataset) to have enough data for the analysis. \n",
    "\n",
    "#The following paragraph code is only the selection of the 10 most popular beer types (based on number of received reviews) (THIS SHOULD BE OPTIMIZABLE LATER ON)\n",
    "Trappistes_Rochefort_10_ratings = ratings_reviews_merged.loc[ratings_reviews_merged[\"beer_id\"] == \"Trappistes Rochefort 10\"]\n",
    "Brooklyn_Black_Chocolate_ratings = ratings_reviews_merged.loc[ratings_reviews_merged[\"beer_id\"] == \"Brooklyn Black Chocolate Stout\"]\n",
    "AleSmith_Speedway_ratings = ratings_reviews_merged.loc[ratings_reviews_merged[\"beer_id\"] == \"AleSmith Speedway Stout\"]\n",
    "Delirium_Tremens_ratings = ratings_reviews_merged.loc[ratings_reviews_merged[\"beer_id\"] == \"Delirium Tremens\"]\n",
    "Titan_IPA_ratings = ratings_reviews_merged.loc[ratings_reviews_merged[\"beer_id\"] == \"Titan IPA\"]\n",
    "Blind_Pig_IPA_ratings = ratings_reviews_merged.loc[ratings_reviews_merged[\"beer_id\"] == \"Blind Pig IPA\"]\n",
    "Spaten_Optimator_ratings = ratings_reviews_merged.loc[ratings_reviews_merged[\"beer_id\"] == \"Spaten Optimator\"]\n",
    "St_Bernardus_Prior_8_ratings = ratings_reviews_merged.loc[ratings_reviews_merged[\"beer_id\"] == \"St. Bernardus Prior 8\"]\n",
    "Weihenstephaner_ratings = ratings_reviews_merged.loc[ratings_reviews_merged[\"beer_id\"] == \"Weihenstephaner Korbinian\"]\n",
    "Consecration_ratings = ratings_reviews_merged.loc[ratings_reviews_merged[\"beer_id\"] == \"Consecration\"]"
   ],
   "id": "f08a99ab9f3afae9"
  },
  {
   "metadata": {},
   "cell_type": "code",
   "outputs": [],
   "execution_count": null,
   "source": [
    "#Classifying users by experience (chosen : experience_threshold) using the number of ratings for each beer type (the 10 most popular). experience_threshold >= is considered an experienced reviewer.\n",
    "experience_threshold = 15 #Can be changed. Defines experience\n",
    "\n",
    "Experienced_Trappistes_ratings = Trappistes_Rochefort_10_ratings[Trappistes_Rochefort_10_ratings[\"nb_ratings\"] >= experience_threshold]\n",
    "New_Trappistes_ratings = Trappistes_Rochefort_10_ratings[Trappistes_Rochefort_10_ratings[\"nb_ratings\"] < experience_threshold]\n",
    "print('Experienced Trappistes shape')\n",
    "print(Experienced_Trappistes_ratings.shape)\n",
    "print('New Trappistes shape')\n",
    "print(New_Trappistes_ratings.shape)\n",
    "\n",
    "Experienced_Brooklyn_Black_ratings= Brooklyn_Black_Chocolate_ratings[Brooklyn_Black_Chocolate_ratings[\"nb_ratings\"] >= experience_threshold]\n",
    "New_Brooklyn_Black_ratings = Brooklyn_Black_Chocolate_ratings[Brooklyn_Black_Chocolate_ratings[\"nb_ratings\"] < experience_threshold]\n",
    "print('Experienced Brooklyn_Black_Chocolate_Stout_ratings shape')\n",
    "print(Experienced_Brooklyn_Black_ratings.shape)\n",
    "print('New Brooklyn_Black_Chocolate_Stout_ratings shape')\n",
    "print(New_Brooklyn_Black_ratings.shape)\n",
    "\n",
    "Experienced_AleSmith_Speedway_ratings= AleSmith_Speedway_ratings[AleSmith_Speedway_ratings[\"nb_ratings\"] >= experience_threshold]\n",
    "New_AleSmith_Speedway_ratings = AleSmith_Speedway_ratings[AleSmith_Speedway_ratings[\"nb_ratings\"] < experience_threshold]\n",
    "print('Experienced AleSmith_Speedway_Stout_ratings shape')\n",
    "print(Experienced_AleSmith_Speedway_ratings.shape)\n",
    "print('New AleSmith_Speedway_Stout_ratings shape')\n",
    "print(New_AleSmith_Speedway_ratings.shape)\n",
    "\n",
    "Experienced_Delirium_Tremens_ratings= Delirium_Tremens_ratings[Delirium_Tremens_ratings[\"nb_ratings\"] >= experience_threshold]\n",
    "New_Delirium_Tremens_ratings = Delirium_Tremens_ratings[Delirium_Tremens_ratings[\"nb_ratings\"] < experience_threshold]\n",
    "print('Experienced Delirium_Tremens_ratings shape')\n",
    "print(Experienced_Delirium_Tremens_ratings.shape)\n",
    "print('New Delirium_Tremens_ratings shape')\n",
    "print(New_Delirium_Tremens_ratings.shape)\n",
    "\n",
    "Experienced_Titan_IPA_ratings= Titan_IPA_ratings[Titan_IPA_ratings[\"nb_ratings\"] >= experience_threshold]\n",
    "New_Titan_IPA_ratings = Titan_IPA_ratings[Titan_IPA_ratings[\"nb_ratings\"] < experience_threshold]\n",
    "print('Experienced Titan_IPA_ratings shape')\n",
    "print(Experienced_Titan_IPA_ratings.shape)\n",
    "print('New Titan_IPA_ratings shape')\n",
    "print(New_Titan_IPA_ratings.shape)\n",
    "\n",
    "Experienced_Blind_Pig_IPA_ratings= Blind_Pig_IPA_ratings[Blind_Pig_IPA_ratings[\"nb_ratings\"] >= experience_threshold]\n",
    "New_Blind_Pig_IPA_ratings = Blind_Pig_IPA_ratings[Blind_Pig_IPA_ratings[\"nb_ratings\"] < experience_threshold]\n",
    "print('Experienced Blind_Pig_IPA_ratings shape')\n",
    "print(Experienced_Blind_Pig_IPA_ratings.shape)\n",
    "print('New Blind_Pig_IPA_ratings shape')\n",
    "print(New_Blind_Pig_IPA_ratings.shape)\n",
    "\n",
    "Experienced_Spaten_Optimator_ratings= Spaten_Optimator_ratings[Spaten_Optimator_ratings[\"nb_ratings\"] >= experience_threshold]\n",
    "New_Spaten_Optimator_ratings = Spaten_Optimator_ratings[Spaten_Optimator_ratings[\"nb_ratings\"] < experience_threshold]\n",
    "print('Experienced Spaten_Optimator_ratings shape')\n",
    "print(Experienced_Spaten_Optimator_ratings.shape)\n",
    "print('New Spaten_Optimator_ratings shape')\n",
    "print(New_Spaten_Optimator_ratings.shape)\n",
    "\n",
    "Experienced_St_Bernardus_Prior_8_ratings= St_Bernardus_Prior_8_ratings[St_Bernardus_Prior_8_ratings[\"nb_ratings\"] >= experience_threshold]\n",
    "New_St_Bernardus_Prior_8_ratings = St_Bernardus_Prior_8_ratings[St_Bernardus_Prior_8_ratings[\"nb_ratings\"] < experience_threshold]\n",
    "print('Experienced St_Bernardus_Prior_8_ratings shape')\n",
    "print(Experienced_St_Bernardus_Prior_8_ratings.shape)\n",
    "print('New St_Bernardus_Prior_8_ratings shape')\n",
    "print(New_St_Bernardus_Prior_8_ratings.shape)\n",
    "\n",
    "Experienced_Weihenstephaner_ratings= Weihenstephaner_ratings[Weihenstephaner_ratings[\"nb_ratings\"] >= experience_threshold]\n",
    "New_Weihenstephaner_ratings = Weihenstephaner_ratings[Weihenstephaner_ratings[\"nb_ratings\"] < experience_threshold]\n",
    "print('Experienced Weihenstephaner_Korbinian_ratings shape')\n",
    "print(Experienced_Weihenstephaner_ratings.shape)\n",
    "print('New Weihenstephaner_Korbinian_ratings shape')\n",
    "print(New_Weihenstephaner_ratings.shape)\n",
    "\n",
    "Experienced_Consecration_ratings= Consecration_ratings[Consecration_ratings[\"nb_ratings\"] >= experience_threshold]\n",
    "New_Consecration_ratings = Consecration_ratings[Consecration_ratings[\"nb_ratings\"] < experience_threshold]\n",
    "print('Experienced Consecration_ratings shape')\n",
    "print(Experienced_Consecration_ratings.shape)\n",
    "print('New Consecration_ratings shape')\n",
    "print(New_Consecration_ratings.shape)"
   ],
   "id": "7eda062276f1ea44"
  },
  {
   "metadata": {},
   "cell_type": "code",
   "outputs": [],
   "execution_count": null,
   "source": [
    "#The following code creates boxplots to show the distribution fo ratings for each beer type for all, experienced and new reviewers.\n",
    "fig, axes = plt.subplots(10, 3, figsize=(10, 30)) #This allows for the display of the results in subplots\n",
    "\n",
    "#To be used in the for loops, a list of the names to find the relevant data was needed. The paragraphe below is just the collection of used names to create each boxplot.\n",
    "Top_10_Beer_types = ['Trappistes_Rochefort_10_ratings', 'Brooklyn_Black_Chocolate_ratings','AleSmith_Speedway_ratings','Delirium_Tremens_ratings','Titan_IPA_ratings','Blind_Pig_IPA_ratings','Spaten_Optimator_ratings','St_Bernardus_Prior_8_ratings','Weihenstephaner_ratings','Consecration_ratings']\n",
    "Experienced_Top_10_Beer_types = ['Experienced_Trappistes_ratings', 'Experienced_Brooklyn_Black_ratings','Experienced_AleSmith_Speedway_ratings','Experienced_Delirium_Tremens_ratings','Experienced_Titan_IPA_ratings','Experienced_Blind_Pig_IPA_ratings','Experienced_Spaten_Optimator_ratings','Experienced_St_Bernardus_Prior_8_ratings','Experienced_Weihenstephaner_ratings','Experienced_Consecration_ratings']\n",
    "New_Top_10_Beer_types = ['New_Trappistes_ratings', 'New_Brooklyn_Black_ratings','New_AleSmith_Speedway_ratings','New_Delirium_Tremens_ratings','New_Titan_IPA_ratings','New_Blind_Pig_IPA_ratings','New_Spaten_Optimator_ratings','New_St_Bernardus_Prior_8_ratings','New_Weihenstephaner_ratings','New_Consecration_ratings']\n",
    "selecting_data_with_iloc = [0, 1, 2, 3, 4, 5, 6, 7, 8, 9]\n",
    "boxplot_placement = -1\n",
    "\n",
    "#Plotting for all reviewers\n",
    "for BeerType in Top_10_Beer_types:\n",
    "    boxplot_placement += 1\n",
    "    data_top10_beer = eval(BeerType)\n",
    "    axes[boxplot_placement,0].boxplot(data_top10_beer['ratings'])\n",
    "    axes[boxplot_placement,0].set_ylim(2,5.25)\n",
    "    axes[boxplot_placement,0].set_title(f'{BeerType}')\n",
    "#Plotting for Experienced reviewers\n",
    "boxplot_placement = -1\n",
    "for BeerType in Experienced_Top_10_Beer_types:\n",
    "    boxplot_placement += 1\n",
    "    data_top10_experiencedbeer = eval(BeerType)\n",
    "    axes[boxplot_placement,1].boxplot(data_top10_experiencedbeer['ratings'])\n",
    "    axes[boxplot_placement,1].set_ylim(2,5.25)\n",
    "    axes[boxplot_placement,1].set_title(f'{BeerType}')\n",
    "#Plotting for New reviewers\n",
    "boxplot_placement = -1\n",
    "for BeerType in New_Top_10_Beer_types:\n",
    "    boxplot_placement += 1\n",
    "    data_top10_newbeer = eval(BeerType)\n",
    "    axes[boxplot_placement,2].boxplot(data_top10_newbeer['ratings'])\n",
    "    axes[boxplot_placement,2].set_ylim(2,5.25)\n",
    "    axes[boxplot_placement,2].set_title(f'{BeerType}')\n",
    "    \n",
    "#Information to properly display plots\n",
    "plt.tight_layout() #Helps spacing plots\n",
    "plt.show()"
   ],
   "id": "1ca631744b9f5810"
  },
  {
   "metadata": {},
   "cell_type": "code",
   "outputs": [],
   "execution_count": null,
   "source": "#The threshold of 15 reviews to be considered as experienced filters the majority of reviewers and in some cases amongst the top 10 most rated beers there are no new reviewers. The data is therefore dominated by the >= reviewers. Changing the threshold to 150 could provide a greater distinction between reviewers.",
   "id": "bc93b1a09631e324"
  }
 ],
 "metadata": {
  "kernelspec": {
   "display_name": "ada",
   "language": "python",
   "name": "python3"
  },
  "language_info": {
   "codemirror_mode": {
    "name": "ipython",
    "version": 3
   },
   "file_extension": ".py",
   "mimetype": "text/x-python",
   "name": "python",
   "nbconvert_exporter": "python",
   "pygments_lexer": "ipython3",
   "version": "3.11.9"
  }
 },
 "nbformat": 4,
 "nbformat_minor": 5
}
