{
 "cells": [
  {
   "cell_type": "markdown",
   "id": "579b567a-2b80-4bf1-8cc1-c514da76ca50",
   "metadata": {},
   "source": [
    "# ADA - Project Milestone P2\n",
    "The jupyter notebook presenting our initial results."
   ]
  },
  {
   "cell_type": "code",
   "outputs": [],
   "source": [
    "import pandas as pd\n",
    "import matplotlib.pyplot as plt\n",
    "import seaborn as sns"
   ],
   "metadata": {
    "collapsed": false,
    "ExecuteTime": {
     "end_time": "2024-10-28T12:09:18.844892200Z",
     "start_time": "2024-10-28T12:09:18.839881200Z"
    }
   },
   "id": "f8b5ab34a0b064ad",
   "execution_count": 1
  },
  {
   "cell_type": "code",
   "outputs": [],
   "source": [
    "# general helpers\n",
    "def ratio_to_percentage(ratio):\n",
    "    \"\"\"\n",
    "    \n",
    "    :param ratio: a number between 0 and 1\n",
    "    :return: the corresponding percentage with two decimal places\n",
    "    \"\"\"\n",
    "    return round(ratio * 100, 2)"
   ],
   "metadata": {
    "collapsed": false,
    "ExecuteTime": {
     "end_time": "2024-10-28T12:09:18.856905200Z",
     "start_time": "2024-10-28T12:09:18.844892200Z"
    }
   },
   "id": "c524663ee9eec419",
   "execution_count": 2
  },
  {
   "cell_type": "code",
   "outputs": [],
   "source": [
    "df_ba_users = pd.read_csv(\"data/BeerAdvocate/users.csv\")\n",
    "df_rb_users = pd.read_csv(\"data/RateBeer/users.csv\")\n",
    "\n",
    "exp_threshold = 15\n",
    "\n",
    "df_ba_experienced_users = df_ba_users[df_ba_users[\"nbr_ratings\"] > exp_threshold]\n",
    "df_rb_experienced_users = df_rb_users[df_rb_users[\"nbr_ratings\"] > exp_threshold]"
   ],
   "metadata": {
    "collapsed": false,
    "ExecuteTime": {
     "end_time": "2024-10-28T12:09:19.182998Z",
     "start_time": "2024-10-28T12:09:18.852906Z"
    }
   },
   "id": "b339cd6de35b4c0",
   "execution_count": 3
  },
  {
   "cell_type": "markdown",
   "source": [],
   "metadata": {
    "collapsed": false
   },
   "id": "70671a7a93601748"
  },
  {
   "cell_type": "code",
   "outputs": [
    {
     "name": "stdout",
     "output_type": "stream",
     "text": [
      "By filtering the datasets, we lost 74.84% (115025/153704) of the beer advocate dataset\n",
      "By filtering the datasets, we lost 80.22% (56295/70174) of the rate beer dataset\n",
      "Taking both datasets in account we lost 76.53% (171320/108853) of the users\n"
     ]
    }
   ],
   "source": [
    "num_users_ba = len(df_ba_users)\n",
    "num_exp_users_ba = len(df_ba_experienced_users)\n",
    "num_users_rb = len(df_rb_users)\n",
    "num_exp_users_rb = len(df_rb_experienced_users)\n",
    "\n",
    "perc_ba = 100 - ratio_to_percentage(num_exp_users_ba / num_users_ba)\n",
    "print(\"By filtering the datasets, we lost \" + str(perc_ba) + \"% (\" + str(num_users_ba - num_exp_users_ba) + \"/\" + str(num_users_ba) + \")\" + \" of the beer advocate dataset\")\n",
    "\n",
    "perc_rb = 100 - ratio_to_percentage(num_exp_users_rb / num_users_rb)\n",
    "print(\"By filtering the datasets, we lost \" + str(perc_rb) + \"% (\" + str(num_users_rb - num_exp_users_rb) + \"/\" + str(num_users_rb) + \")\" + \" of the rate beer dataset\")\n",
    "\n",
    "perc_both = round((num_users_ba / (num_users_ba + num_users_rb)) * perc_ba + (num_users_rb  / (num_users_rb + num_users_ba)) * perc_rb, 2)\n",
    "print(\"Taking both datasets in account we lost \" + str(perc_both) + \"% (\" + str(num_users_ba + num_users_rb - num_exp_users_ba - num_exp_users_rb) + \"/\" + str(num_exp_users_ba + num_users_rb) + \")\" + \" of the users\")"
   ],
   "metadata": {
    "collapsed": false,
    "ExecuteTime": {
     "end_time": "2024-10-28T12:09:19.196255Z",
     "start_time": "2024-10-28T12:09:19.189001600Z"
    }
   },
   "id": "ee33aa5195ce2b66",
   "execution_count": 4
  },
  {
   "cell_type": "markdown",
   "source": [
    "# Does the reviewer's rating change over time"
   ],
   "metadata": {
    "collapsed": false
   },
   "id": "4f3e0ee294360db7"
  },
  {
   "cell_type": "code",
   "execution_count": 5,
   "id": "620f46cc",
   "metadata": {
    "ExecuteTime": {
     "end_time": "2024-10-28T12:09:19.205766700Z",
     "start_time": "2024-10-28T12:09:19.196761Z"
    }
   },
   "outputs": [],
   "source": [
    "# "
   ]
  }
 ],
 "metadata": {
  "kernelspec": {
   "display_name": "ada",
   "language": "python",
   "name": "python3"
  },
  "language_info": {
   "codemirror_mode": {
    "name": "ipython",
    "version": 3
   },
   "file_extension": ".py",
   "mimetype": "text/x-python",
   "name": "python",
   "nbconvert_exporter": "python",
   "pygments_lexer": "ipython3",
   "version": "3.11.9"
  }
 },
 "nbformat": 4,
 "nbformat_minor": 5
}
