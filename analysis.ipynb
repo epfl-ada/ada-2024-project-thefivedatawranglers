{
 "cells": [
  {
   "cell_type": "markdown",
   "id": "579b567a-2b80-4bf1-8cc1-c514da76ca50",
   "metadata": {},
   "source": [
    "# ADA - Project Milestone P2\n",
    "The jupyter notebook presenting our initial results."
   ]
  },
  {
   "cell_type": "code",
   "outputs": [],
   "source": [
    "import pandas as pd\n",
    "import matplotlib.pyplot as plt\n",
    "import seaborn as sns\n",
    "from tqdm import tqdm"
   ],
   "metadata": {
    "collapsed": false,
    "ExecuteTime": {
     "end_time": "2024-11-02T18:54:23.826416300Z",
     "start_time": "2024-11-02T18:54:23.821358Z"
    }
   },
   "id": "f8b5ab34a0b064ad",
   "execution_count": 55
  },
  {
   "cell_type": "code",
   "outputs": [],
   "source": [
    "# general helpers\n",
    "def ratio_to_percentage(ratio):\n",
    "    \"\"\"\n",
    "    \n",
    "    :param ratio: a number between 0 and 1\n",
    "    :return: the corresponding percentage with two decimal places\n",
    "    \"\"\"\n",
    "    return round(ratio * 100, 2)"
   ],
   "metadata": {
    "collapsed": false,
    "ExecuteTime": {
     "end_time": "2024-11-02T18:34:35.111990200Z",
     "start_time": "2024-11-02T18:34:35.108476900Z"
    }
   },
   "id": "c524663ee9eec419",
   "execution_count": 35
  },
  {
   "cell_type": "code",
   "outputs": [],
   "source": [
    "df_ba_users = pd.read_csv(\"data/BeerAdvocate/users.csv\")\n",
    "df_rb_users = pd.read_csv(\"data/RateBeer/users.csv\")\n",
    "\n",
    "exp_threshold = 15\n",
    "\n",
    "df_ba_experienced_users = df_ba_users[df_ba_users[\"nbr_ratings\"] > exp_threshold]\n",
    "df_rb_experienced_users = df_rb_users[df_rb_users[\"nbr_ratings\"] > exp_threshold]"
   ],
   "metadata": {
    "collapsed": false,
    "ExecuteTime": {
     "end_time": "2024-11-02T18:34:35.434719300Z",
     "start_time": "2024-11-02T18:34:35.113987800Z"
    }
   },
   "id": "b339cd6de35b4c0",
   "execution_count": 36
  },
  {
   "cell_type": "markdown",
   "source": [],
   "metadata": {
    "collapsed": false
   },
   "id": "70671a7a93601748"
  },
  {
   "cell_type": "code",
   "outputs": [
    {
     "name": "stdout",
     "output_type": "stream",
     "text": [
      "By filtering the datasets, we lost 74.84% (115025/153704) of the beer advocate dataset\n",
      "By filtering the datasets, we lost 80.22% (56295/70174) of the rate beer dataset\n",
      "Taking both datasets in account we lost 76.53% (171320/108853) of the users\n"
     ]
    }
   ],
   "source": [
    "num_users_ba = len(df_ba_users)\n",
    "num_exp_users_ba = len(df_ba_experienced_users)\n",
    "num_users_rb = len(df_rb_users)\n",
    "num_exp_users_rb = len(df_rb_experienced_users)\n",
    "\n",
    "perc_ba = 100 - ratio_to_percentage(num_exp_users_ba / num_users_ba)\n",
    "print(\"By filtering the datasets, we lost \" + str(perc_ba) + \"% (\" + str(num_users_ba - num_exp_users_ba) + \"/\" + str(num_users_ba) + \")\" + \" of the beer advocate dataset\")\n",
    "\n",
    "perc_rb = 100 - ratio_to_percentage(num_exp_users_rb / num_users_rb)\n",
    "print(\"By filtering the datasets, we lost \" + str(perc_rb) + \"% (\" + str(num_users_rb - num_exp_users_rb) + \"/\" + str(num_users_rb) + \")\" + \" of the rate beer dataset\")\n",
    "\n",
    "perc_both = round((num_users_ba / (num_users_ba + num_users_rb)) * perc_ba + (num_users_rb  / (num_users_rb + num_users_ba)) * perc_rb, 2)\n",
    "print(\"Taking both datasets in account we lost \" + str(perc_both) + \"% (\" + str(num_users_ba + num_users_rb - num_exp_users_ba - num_exp_users_rb) + \"/\" + str(num_exp_users_ba + num_users_rb) + \")\" + \" of the users\")"
   ],
   "metadata": {
    "collapsed": false,
    "ExecuteTime": {
     "end_time": "2024-11-02T18:34:35.446018400Z",
     "start_time": "2024-11-02T18:34:35.439327200Z"
    }
   },
   "id": "ee33aa5195ce2b66",
   "execution_count": 37
  },
  {
   "cell_type": "markdown",
   "source": [
    "# Expereince measured by used words analysis"
   ],
   "metadata": {
    "collapsed": false
   },
   "id": "4f3e0ee294360db7"
  },
  {
   "cell_type": "code",
   "execution_count": 38,
   "id": "620f46cc",
   "metadata": {
    "ExecuteTime": {
     "end_time": "2024-11-02T18:34:35.456776300Z",
     "start_time": "2024-11-02T18:34:35.446018400Z"
    }
   },
   "outputs": [],
   "source": [
    "# a list containing words that only a true expert would say\n",
    "exp_words_general = [\"Lacing\", \"Ester\", \"Diacetyl\", \"Phenol\", \"Dry Hop\", \"DMS\", \"Oxidation\", \"catty\", \"resinous\", \"astringent\", \"Effervescent\", \"Tannic\", \"Brettanomyces\", \"lactic\", \"autolysis\", \"Krausen\"]\n",
    "\n",
    "exp_words_general2 = [\"Ester\", \"Diacetyl\", \"DMS\", \"resinous\", \"astringent\", \"Effervescent\", \"Tannic\", \"Brettanomyces\", \"lactic\", \"autolysis\", \"Krausen\"]\n",
    "\n",
    "exp_words = [\"Ester\"]"
   ]
  },
  {
   "cell_type": "code",
   "outputs": [],
   "source": [
    "df_rb_ratings = pd.read_csv(\"data/BeerAdvocate/ratings/RB_ratings.csv\")"
   ],
   "metadata": {
    "collapsed": false,
    "ExecuteTime": {
     "end_time": "2024-11-02T18:35:13.787300200Z",
     "start_time": "2024-11-02T18:34:35.449723Z"
    }
   },
   "id": "6383a927f0e337b3",
   "execution_count": 39
  },
  {
   "cell_type": "code",
   "outputs": [],
   "source": [],
   "metadata": {
    "collapsed": false,
    "ExecuteTime": {
     "end_time": "2024-11-02T18:35:13.816644200Z",
     "start_time": "2024-11-02T18:35:13.802641600Z"
    }
   },
   "id": "db4215bcd6db5ba",
   "execution_count": 39
  },
  {
   "cell_type": "code",
   "outputs": [],
   "source": [
    "regex_pattern = \"|\".join(exp_words)\n",
    "df_rb_ratings_exp = df_rb_ratings[df_rb_ratings[\"text\"].str.contains(regex_pattern, case=False, na=False)]"
   ],
   "metadata": {
    "collapsed": false,
    "ExecuteTime": {
     "end_time": "2024-11-02T18:35:40.489646300Z",
     "start_time": "2024-11-02T18:35:13.813388200Z"
    }
   },
   "id": "137987c16650e830",
   "execution_count": 40
  },
  {
   "cell_type": "code",
   "outputs": [
    {
     "name": "stdout",
     "output_type": "stream",
     "text": [
      "Total number of users:  70121\n",
      "Number of experienced users:  5937\n"
     ]
    }
   ],
   "source": [
    "exp_user_ids = df_rb_ratings_exp[\"user_id\"].unique()\n",
    "print(\"Total number of users: \", len(df_rb_ratings[\"user_id\"].unique()))\n",
    "print(\"Number of experienced users: \", len(exp_user_ids))"
   ],
   "metadata": {
    "collapsed": false,
    "ExecuteTime": {
     "end_time": "2024-11-02T18:35:40.583430200Z",
     "start_time": "2024-11-02T18:35:40.491291Z"
    }
   },
   "id": "91126febf26f3619",
   "execution_count": 41
  },
  {
   "cell_type": "code",
   "outputs": [],
   "source": [
    "df_rb_ratings_wo_text = pd.read_csv(\"data/BeerAdvocate/ratings/RB_ratings.csv\", usecols=lambda col: col != \"text\")"
   ],
   "metadata": {
    "collapsed": false,
    "ExecuteTime": {
     "end_time": "2024-11-02T18:36:06.863963500Z",
     "start_time": "2024-11-02T18:35:40.575431400Z"
    }
   },
   "id": "1e8d6068933e6da3",
   "execution_count": 42
  },
  {
   "cell_type": "code",
   "outputs": [],
   "source": [
    "df_rb_ratings_of_exp = df_rb_ratings_wo_text[df_rb_ratings_wo_text[\"user_id\"].isin(exp_user_ids)]"
   ],
   "metadata": {
    "collapsed": false,
    "ExecuteTime": {
     "end_time": "2024-11-02T18:36:07.476394100Z",
     "start_time": "2024-11-02T18:36:06.868965300Z"
    }
   },
   "id": "e45aafded44e56e2",
   "execution_count": 43
  },
  {
   "cell_type": "code",
   "outputs": [
    {
     "name": "stdout",
     "output_type": "stream",
     "text": [
      "5775760\n"
     ]
    }
   ],
   "source": [
    "print(len(df_rb_ratings_of_exp))"
   ],
   "metadata": {
    "collapsed": false,
    "ExecuteTime": {
     "end_time": "2024-11-02T18:36:07.490277900Z",
     "start_time": "2024-11-02T18:36:07.479820Z"
    }
   },
   "id": "2019413d136a3431",
   "execution_count": 44
  },
  {
   "cell_type": "code",
   "outputs": [
    {
     "name": "stdout",
     "output_type": "stream",
     "text": [
      "7122074\n"
     ]
    }
   ],
   "source": [
    "print(len(df_rb_ratings_wo_text))"
   ],
   "metadata": {
    "collapsed": false,
    "ExecuteTime": {
     "end_time": "2024-11-02T18:36:07.491285700Z",
     "start_time": "2024-11-02T18:36:07.485741700Z"
    }
   },
   "id": "add6df5921d35d1a",
   "execution_count": 45
  },
  {
   "cell_type": "markdown",
   "source": [
    "That makes no sense. I can't imagine that the experienced user group wrote almost all the reviews and wrote 604.7 reviews on average..."
   ],
   "metadata": {
    "collapsed": false
   },
   "id": "84c4f4fe5465464a"
  },
  {
   "cell_type": "code",
   "outputs": [
    {
     "name": "stdout",
     "output_type": "stream",
     "text": [
      "Average number of reviews per user:  101.56834614452161\n"
     ]
    }
   ],
   "source": [
    "print(\"Average number of reviews per user: \", df_rb_ratings[\"user_id\"].value_counts().mean())"
   ],
   "metadata": {
    "collapsed": false,
    "ExecuteTime": {
     "end_time": "2024-11-02T18:36:07.632081200Z",
     "start_time": "2024-11-02T18:36:07.490277900Z"
    }
   },
   "id": "676572eff2397288",
   "execution_count": 46
  },
  {
   "cell_type": "code",
   "outputs": [
    {
     "name": "stdout",
     "output_type": "stream",
     "text": [
      "Average number of reviews per exp. user:  972.8415024423109\n"
     ]
    }
   ],
   "source": [
    "print(\"Average number of reviews per exp. user: \", df_rb_ratings_of_exp[\"user_id\"].value_counts().mean())"
   ],
   "metadata": {
    "collapsed": false,
    "ExecuteTime": {
     "end_time": "2024-11-02T18:36:07.735371400Z",
     "start_time": "2024-11-02T18:36:07.630711300Z"
    }
   },
   "id": "a6bf517917718ca1",
   "execution_count": 47
  },
  {
   "cell_type": "markdown",
   "source": [
    "Anyway, let's go on a little"
   ],
   "metadata": {
    "collapsed": false
   },
   "id": "8c0c813239d8c959"
  },
  {
   "cell_type": "code",
   "outputs": [
    {
     "name": "stdout",
     "output_type": "stream",
     "text": [
      "Avg. grade of experienced user:  3.2831560002493183\n"
     ]
    }
   ],
   "source": [
    "print(\"Avg. grade of experienced user: \", df_rb_ratings_of_exp[\"rating\"].mean())"
   ],
   "metadata": {
    "collapsed": false,
    "ExecuteTime": {
     "end_time": "2024-11-02T18:36:07.736371600Z",
     "start_time": "2024-11-02T18:36:07.704340Z"
    }
   },
   "id": "a072c2fb53f09f00",
   "execution_count": 48
  },
  {
   "cell_type": "code",
   "outputs": [],
   "source": [
    "df_rb_ratings_of_unexp = df_rb_ratings_wo_text[~df_rb_ratings_wo_text[\"user_id\"].isin(exp_user_ids)]"
   ],
   "metadata": {
    "collapsed": false,
    "ExecuteTime": {
     "end_time": "2024-11-02T18:36:07.980324300Z",
     "start_time": "2024-11-02T18:36:07.727373700Z"
    }
   },
   "id": "a9765bf7a5471abb",
   "execution_count": 49
  },
  {
   "cell_type": "code",
   "outputs": [
    {
     "name": "stdout",
     "output_type": "stream",
     "text": [
      "Avg. grade of unexperienced user:  3.2957841929891525\n"
     ]
    }
   ],
   "source": [
    "print(\"Avg. grade of unexperienced user: \", df_rb_ratings_of_unexp[\"rating\"].mean())"
   ],
   "metadata": {
    "collapsed": false,
    "ExecuteTime": {
     "end_time": "2024-11-02T18:36:07.992514Z",
     "start_time": "2024-11-02T18:36:07.984383Z"
    }
   },
   "id": "cd7c152f13d8056",
   "execution_count": 50
  },
  {
   "cell_type": "code",
   "outputs": [
    {
     "data": {
      "text/plain": "<Figure size 1200x600 with 1 Axes>",
      "image/png": "[encoded data removed]"
     },
     "metadata": {},
     "output_type": "display_data"
    }
   ],
   "source": [
    "import matplotlib.pyplot as plt\n",
    "\n",
    "# plotting the distribution\n",
    "plt.figure(figsize=(12, 6))\n",
    "plt.hist(df_rb_ratings_of_exp[\"rating\"], bins=20, alpha=0.5, label=\"Experienced Users\")\n",
    "plt.hist(df_rb_ratings_of_unexp[\"rating\"], bins=20, alpha=0.5, label=\"Unexperienced Users\")\n",
    "plt.xlabel(\"Rating\")\n",
    "plt.ylabel(\"Frequency\")\n",
    "plt.legend()\n",
    "plt.title(\"Distribution of Ratings for Experienced and Unexperienced Users\")\n",
    "plt.show()"
   ],
   "metadata": {
    "collapsed": false,
    "ExecuteTime": {
     "end_time": "2024-11-02T18:37:40.128489300Z",
     "start_time": "2024-11-02T18:37:39.170328100Z"
    }
   },
   "id": "72d899693a98c1e3",
   "execution_count": 51
  },
  {
   "cell_type": "code",
   "outputs": [
    {
     "name": "stdout",
     "output_type": "stream",
     "text": [
      "Variance of ratings for experienced users:  0.4290705186172317\n",
      "Variance of ratings for unexperienced users:  0.6520552887168728\n"
     ]
    }
   ],
   "source": [
    "print(\"Variance of ratings for experienced users: \", df_rb_ratings_of_exp[\"rating\"].var())\n",
    "print(\"Variance of ratings for unexperienced users: \", df_rb_ratings_of_unexp[\"rating\"].var())\n"
   ],
   "metadata": {
    "collapsed": false,
    "ExecuteTime": {
     "end_time": "2024-11-02T18:37:54.987129200Z",
     "start_time": "2024-11-02T18:37:54.948344200Z"
    }
   },
   "id": "aa11d7988dff1a9",
   "execution_count": 52
  },
  {
   "cell_type": "markdown",
   "source": [
    "Let's try another way to define an experienced user. An experienced user is now a user who has used all the words from the exp_word list once. It doesn't have to be in the same rating, just at some point."
   ],
   "metadata": {
    "collapsed": false
   },
   "id": "f4460914fe36ceec"
  },
  {
   "cell_type": "code",
   "outputs": [
    {
     "name": "stderr",
     "output_type": "stream",
     "text": [
      "Scanning users:   1%|          | 725/70121 [00:09<15:48, 73.20it/s] \n"
     ]
    },
    {
     "ename": "KeyboardInterrupt",
     "evalue": "",
     "output_type": "error",
     "traceback": [
      "\u001B[1;31m---------------------------------------------------------------------------\u001B[0m",
      "\u001B[1;31mKeyboardInterrupt\u001B[0m                         Traceback (most recent call last)",
      "Cell \u001B[1;32mIn[57], line 9\u001B[0m\n\u001B[0;32m      6\u001B[0m     user_reviews \u001B[38;5;241m=\u001B[39m df_rb_ratings[df_rb_ratings[\u001B[38;5;124m\"\u001B[39m\u001B[38;5;124muser_id\u001B[39m\u001B[38;5;124m\"\u001B[39m] \u001B[38;5;241m==\u001B[39m user_id][\u001B[38;5;124m\"\u001B[39m\u001B[38;5;124mtext\u001B[39m\u001B[38;5;124m\"\u001B[39m]\u001B[38;5;241m.\u001B[39mstr\u001B[38;5;241m.\u001B[39mcat(sep\u001B[38;5;241m=\u001B[39m\u001B[38;5;124m\"\u001B[39m\u001B[38;5;124m \u001B[39m\u001B[38;5;124m\"\u001B[39m)\u001B[38;5;241m.\u001B[39mlower()\n\u001B[0;32m      8\u001B[0m     \u001B[38;5;66;03m# check whether he used every word at least once\u001B[39;00m\n\u001B[1;32m----> 9\u001B[0m     \u001B[38;5;28;01mif\u001B[39;00m \u001B[38;5;28mall\u001B[39m(word\u001B[38;5;241m.\u001B[39mlower() \u001B[38;5;129;01min\u001B[39;00m user_reviews \u001B[38;5;28;01mfor\u001B[39;00m word \u001B[38;5;129;01min\u001B[39;00m exp_words_general2):\n\u001B[0;32m     10\u001B[0m         user_ids_with_all_words\u001B[38;5;241m.\u001B[39madd(user_id)\n\u001B[0;32m     12\u001B[0m df_rb_ratings_all_exp \u001B[38;5;241m=\u001B[39m df_rb_ratings[df_rb_ratings[\u001B[38;5;124m\"\u001B[39m\u001B[38;5;124muser_id\u001B[39m\u001B[38;5;124m\"\u001B[39m]\u001B[38;5;241m.\u001B[39misin(user_ids_with_all_words)]\n",
      "Cell \u001B[1;32mIn[57], line 9\u001B[0m, in \u001B[0;36m<genexpr>\u001B[1;34m(.0)\u001B[0m\n\u001B[0;32m      6\u001B[0m     user_reviews \u001B[38;5;241m=\u001B[39m df_rb_ratings[df_rb_ratings[\u001B[38;5;124m\"\u001B[39m\u001B[38;5;124muser_id\u001B[39m\u001B[38;5;124m\"\u001B[39m] \u001B[38;5;241m==\u001B[39m user_id][\u001B[38;5;124m\"\u001B[39m\u001B[38;5;124mtext\u001B[39m\u001B[38;5;124m\"\u001B[39m]\u001B[38;5;241m.\u001B[39mstr\u001B[38;5;241m.\u001B[39mcat(sep\u001B[38;5;241m=\u001B[39m\u001B[38;5;124m\"\u001B[39m\u001B[38;5;124m \u001B[39m\u001B[38;5;124m\"\u001B[39m)\u001B[38;5;241m.\u001B[39mlower()\n\u001B[0;32m      8\u001B[0m     \u001B[38;5;66;03m# check whether he used every word at least once\u001B[39;00m\n\u001B[1;32m----> 9\u001B[0m     \u001B[38;5;28;01mif\u001B[39;00m \u001B[38;5;28mall\u001B[39m(word\u001B[38;5;241m.\u001B[39mlower() \u001B[38;5;129;01min\u001B[39;00m user_reviews \u001B[38;5;28;01mfor\u001B[39;00m word \u001B[38;5;129;01min\u001B[39;00m exp_words_general2):\n\u001B[0;32m     10\u001B[0m         user_ids_with_all_words\u001B[38;5;241m.\u001B[39madd(user_id)\n\u001B[0;32m     12\u001B[0m df_rb_ratings_all_exp \u001B[38;5;241m=\u001B[39m df_rb_ratings[df_rb_ratings[\u001B[38;5;124m\"\u001B[39m\u001B[38;5;124muser_id\u001B[39m\u001B[38;5;124m\"\u001B[39m]\u001B[38;5;241m.\u001B[39misin(user_ids_with_all_words)]\n",
      "\u001B[1;31mKeyboardInterrupt\u001B[0m: "
     ]
    }
   ],
   "source": [
    "# users that used all words from the exp_word list\n",
    "user_ids_with_all_words = set()\n",
    "\n",
    "for user_id in tqdm(df_rb_ratings[\"user_id\"].unique(), desc=\"Scanning users\"):\n",
    "    # concatting all the rating texts this user wrote\n",
    "    user_reviews = df_rb_ratings[df_rb_ratings[\"user_id\"] == user_id][\"text\"].str.cat(sep=\" \").lower()\n",
    "\n",
    "    # check whether he used every word at least once\n",
    "    if all(word.lower() in user_reviews for word in exp_words_general2):\n",
    "        user_ids_with_all_words.add(user_id)\n",
    "\n",
    "df_rb_ratings_all_exp = df_rb_ratings[df_rb_ratings[\"user_id\"].isin(user_ids_with_all_words)]\n",
    "\n",
    "print(\"Number of users who used all words:\", len(user_ids_with_all_words))"
   ],
   "metadata": {
    "collapsed": false,
    "ExecuteTime": {
     "end_time": "2024-11-02T19:03:37.987507700Z",
     "start_time": "2024-11-02T19:03:27.976999200Z"
    }
   },
   "id": "63fa121a6c09fa73",
   "execution_count": 57
  },
  {
   "cell_type": "code",
   "outputs": [],
   "source": [
    "df_rb_ratings_all_exp_avg = df_rb_ratings_all_exp[\"rating\"].mean()\n",
    "\n",
    "print(\"Avg rating of exp. users: \", df_rb_ratings_all_exp_avg)"
   ],
   "metadata": {
    "collapsed": false
   },
   "id": "90be6948664ac8fe"
  },
  {
   "cell_type": "code",
   "outputs": [],
   "source": [
    "df_rb_ratings_all_unexp = df_rb_ratings[~df_rb_ratings[\"user_id\"].isin(user_ids_with_all_words)]\n",
    "\n",
    "print(\"Avg rating of unexp. users: \", df_rb_ratings_all_unexp)"
   ],
   "metadata": {
    "collapsed": false
   },
   "id": "1669e049a0a7cb5f"
  }
 ],
 "metadata": {
  "kernelspec": {
   "display_name": "ada",
   "language": "python",
   "name": "python3"
  },
  "language_info": {
   "codemirror_mode": {
    "name": "ipython",
    "version": 3
   },
   "file_extension": ".py",
   "mimetype": "text/x-python",
   "name": "python",
   "nbconvert_exporter": "python",
   "pygments_lexer": "ipython3",
   "version": "3.11.9"
  }
 },
 "nbformat": 4,
 "nbformat_minor": 5
}
