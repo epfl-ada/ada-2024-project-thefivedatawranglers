{
 "cells": [
  {
   "cell_type": "markdown",
   "id": "579b567a-2b80-4bf1-8cc1-c514da76ca50",
   "metadata": {},
   "source": [
    "# ADA - Project Milestone P2\n",
    "The jupyter notebook presenting our initial results."
   ]
  },
  {
   "cell_type": "code",
   "execution_count": 4,
   "id": "f8b5ab34a0b064ad",
   "metadata": {
    "ExecuteTime": {
     "end_time": "2024-10-21T16:05:08.132713900Z",
     "start_time": "2024-10-21T16:05:08.127242700Z"
    },
    "collapsed": false
   },
   "outputs": [],
   "source": [
    "import pandas as pd\n",
    "import matplotlib.pyplot as plt\n",
    "import seaborn as sns"
   ]
  },
  {
   "cell_type": "code",
   "execution_count": 5,
   "id": "c524663ee9eec419",
   "metadata": {
    "ExecuteTime": {
     "end_time": "2024-10-21T16:05:08.443872600Z",
     "start_time": "2024-10-21T16:05:08.440616400Z"
    },
    "collapsed": false
   },
   "outputs": [],
   "source": [
    "# general helpers\n",
    "def ratio_to_percentage(ratio):\n",
    "    \"\"\"\n",
    "    \n",
    "    :param ratio: a number between 0 and 1\n",
    "    :return: the corresponding percentage with two decimal places\n",
    "    \"\"\"\n",
    "    return round(ratio * 100, 2)"
   ]
  },
  {
   "cell_type": "code",
   "execution_count": 9,
   "id": "b339cd6de35b4c0",
   "metadata": {
    "ExecuteTime": {
     "end_time": "2024-10-21T16:05:09.059340100Z",
     "start_time": "2024-10-21T16:05:08.781528100Z"
    },
    "collapsed": false
   },
   "outputs": [],
   "source": [
    "df_ba_users = pd.read_csv(\"data/BeerAdvocate/users.csv\")\n",
    "df_rb_users = pd.read_csv(\"data/RateBeer/users.csv\")\n",
    "\n",
    "exp_threshold = 15\n",
    "\n",
    "df_ba_experienced_users = df_ba_users[df_ba_users[\"nbr_ratings\"] > exp_threshold]\n",
    "df_rb_experienced_users = df_rb_users[df_rb_users[\"nbr_ratings\"] > exp_threshold]"
   ]
  },
  {
   "cell_type": "markdown",
   "id": "70671a7a93601748",
   "metadata": {
    "collapsed": false
   },
   "source": []
  },
  {
   "cell_type": "code",
   "execution_count": 10,
   "id": "ee33aa5195ce2b66",
   "metadata": {
    "ExecuteTime": {
     "end_time": "2024-10-21T16:05:10.040440Z",
     "start_time": "2024-10-21T16:05:10.035794300Z"
    },
    "collapsed": false
   },
   "outputs": [
    {
     "name": "stdout",
     "output_type": "stream",
     "text": [
      "By filtering the datasets, we lost 74.84% (115025/153704) of the beer advocate dataset\n",
      "By filtering the datasets, we lost 80.22% (56295/70174) of the beer advocate dataset\n",
      "Taking both datasets in account we lost 76.53% (171320/108853) of the users\n"
     ]
    }
   ],
   "source": [
    "num_users_ba = len(df_ba_users)\n",
    "num_exp_users_ba = len(df_ba_experienced_users)\n",
    "num_users_rb = len(df_rb_users)\n",
    "num_exp_users_rb = len(df_rb_experienced_users)\n",
    "\n",
    "perc_ba = 100 - ratio_to_percentage(num_exp_users_ba / num_users_ba)\n",
    "print(\"By filtering the datasets, we lost \" + str(perc_ba) + \"% (\" + str(num_users_ba - num_exp_users_ba) + \"/\" + str(num_users_ba) + \")\" + \" of the beer advocate dataset\")\n",
    "\n",
    "perc_rb = 100 - ratio_to_percentage(num_exp_users_rb / num_users_rb)\n",
    "print(\"By filtering the datasets, we lost \" + str(perc_rb) + \"% (\" + str(num_users_rb - num_exp_users_rb) + \"/\" + str(num_users_rb) + \")\" + \" of the beer advocate dataset\")\n",
    "\n",
    "perc_both = round((num_users_ba / (num_users_ba + num_users_rb)) * perc_ba + (num_users_rb  / (num_users_rb + num_users_ba)) * perc_rb, 2)\n",
    "print(\"Taking both datasets in account we lost \" + str(perc_both) + \"% (\" + str(num_users_ba + num_users_rb - num_exp_users_ba - num_exp_users_rb) + \"/\" + str(num_exp_users_ba + num_users_rb) + \")\" + \" of the users\")"
   ]
  },
  {
   "cell_type": "markdown",
   "id": "4f3e0ee294360db7",
   "metadata": {
    "collapsed": false
   },
   "source": [
    "# Does the reviewer's rating change over time"
   ]
  },
  {
   "cell_type": "code",
   "execution_count": 8,
   "id": "620f46cc",
   "metadata": {
    "ExecuteTime": {
     "end_time": "2024-10-18T10:39:50.456507300Z",
     "start_time": "2024-10-18T10:39:50.452251500Z"
    }
   },
   "outputs": [],
   "source": [
    "# "
   ]
  },
  {
   "cell_type": "markdown",
   "id": "41f5a6d4",
   "metadata": {},
   "source": [
    "# Reviews by Nationality"
   ]
  },
  {
   "cell_type": "code",
   "execution_count": null,
   "id": "9e1336c3",
   "metadata": {},
   "outputs": [],
   "source": [
    "def parse_reviews(file_path):\n",
    "    with open(file_path, 'r') as f:\n",
    "        data = f.read().split('\\n\\n')  # Split each review by double newlines\n",
    "\n",
    "    # Initialize list to store each parsed review as a dictionary\n",
    "    reviews_list = []\n",
    "    for review in data:\n",
    "        review_dict = {}\n",
    "        for line in review.split('\\n'):\n",
    "            key, value = line.split(': ', 1)  # Split each line into key-value pairs\n",
    "            review_dict[key.strip()] = value.strip()\n",
    "        reviews_list.append(review_dict)\n",
    "    \n",
    "    # Convert list of dictionaries to DataFrame\n",
    "    reviews_df = pd.DataFrame(reviews_list)\n",
    "    return reviews_df\n",
    "\n",
    "df_ba_reviews = parse_reviews(\"data/BeerAdvocate/reviews.txt\")"
   ]
  },
  {
   "cell_type": "code",
   "execution_count": 11,
   "id": "41362e3a",
   "metadata": {},
   "outputs": [
    {
     "ename": "ValueError",
     "evalue": "not enough values to unpack (expected 2, got 1)",
     "output_type": "error",
     "traceback": [
      "\u001b[0;31m---------------------------------------------------------------------------\u001b[0m",
      "\u001b[0;31mValueError\u001b[0m                                Traceback (most recent call last)",
      "Cell \u001b[0;32mIn[11], line 18\u001b[0m\n\u001b[1;32m     15\u001b[0m     reviews_df \u001b[38;5;241m=\u001b[39m pd\u001b[38;5;241m.\u001b[39mDataFrame(reviews_list)\n\u001b[1;32m     16\u001b[0m     \u001b[38;5;28;01mreturn\u001b[39;00m reviews_df\n\u001b[0;32m---> 18\u001b[0m df_ba_reviews \u001b[38;5;241m=\u001b[39m parse_reviews(\u001b[38;5;124m\"\u001b[39m\u001b[38;5;124mdata/BeerAdvocate/reviews.txt\u001b[39m\u001b[38;5;124m\"\u001b[39m)\n\u001b[1;32m     19\u001b[0m df_ba_beers \u001b[38;5;241m=\u001b[39m pd\u001b[38;5;241m.\u001b[39mread_csv(\u001b[38;5;124m'\u001b[39m\u001b[38;5;124mbeer.csv\u001b[39m\u001b[38;5;124m'\u001b[39m)\n\u001b[1;32m     20\u001b[0m df_ba_breweries \u001b[38;5;241m=\u001b[39m pd\u001b[38;5;241m.\u001b[39mread_csv(\u001b[38;5;124m'\u001b[39m\u001b[38;5;124mbreweries.csv\u001b[39m\u001b[38;5;124m'\u001b[39m)\n",
      "Cell \u001b[0;32mIn[11], line 10\u001b[0m, in \u001b[0;36mparse_reviews\u001b[0;34m(file_path)\u001b[0m\n\u001b[1;32m      8\u001b[0m review_dict \u001b[38;5;241m=\u001b[39m {}\n\u001b[1;32m      9\u001b[0m \u001b[38;5;28;01mfor\u001b[39;00m line \u001b[38;5;129;01min\u001b[39;00m review\u001b[38;5;241m.\u001b[39msplit(\u001b[38;5;124m'\u001b[39m\u001b[38;5;130;01m\\n\u001b[39;00m\u001b[38;5;124m'\u001b[39m):\n\u001b[0;32m---> 10\u001b[0m     key, value \u001b[38;5;241m=\u001b[39m line\u001b[38;5;241m.\u001b[39msplit(\u001b[38;5;124m'\u001b[39m\u001b[38;5;124m: \u001b[39m\u001b[38;5;124m'\u001b[39m, \u001b[38;5;241m1\u001b[39m)  \u001b[38;5;66;03m# Split each line into key-value pairs\u001b[39;00m\n\u001b[1;32m     11\u001b[0m     review_dict[key\u001b[38;5;241m.\u001b[39mstrip()] \u001b[38;5;241m=\u001b[39m value\u001b[38;5;241m.\u001b[39mstrip()\n\u001b[1;32m     12\u001b[0m reviews_list\u001b[38;5;241m.\u001b[39mappend(review_dict)\n",
      "\u001b[0;31mValueError\u001b[0m: not enough values to unpack (expected 2, got 1)"
     ]
    }
   ],
   "source": [
    "\n",
    "df_ba_beers = pd.read_csv('beer.csv')\n",
    "df_ba_breweries = pd.read_csv('breweries.csv')\n",
    "\n",
    "reviews_with_brewery = pd.merge(df_ba_reviews, df_ba_beers[['beer_id', 'id']], left='bewery_id', right = 'id', how='left')\n",
    "\n"
   ]
  },
  {
   "cell_type": "code",
   "execution_count": null,
   "id": "3330cf8d",
   "metadata": {},
   "outputs": [],
   "source": []
  }
 ],
 "metadata": {
  "kernelspec": {
   "display_name": "ada",
   "language": "python",
   "name": "python3"
  },
  "language_info": {
   "codemirror_mode": {
    "name": "ipython",
    "version": 3
   },
   "file_extension": ".py",
   "mimetype": "text/x-python",
   "name": "python",
   "nbconvert_exporter": "python",
   "pygments_lexer": "ipython3",
   "version": "3.11.9"
  }
 },
 "nbformat": 4,
 "nbformat_minor": 5
}
