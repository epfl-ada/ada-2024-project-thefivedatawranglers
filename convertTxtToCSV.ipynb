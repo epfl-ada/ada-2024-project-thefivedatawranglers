{
 "cells": [
  {
   "cell_type": "code",
   "execution_count": 3,
   "metadata": {},
   "outputs": [],
   "source": [
    "import pandas as pd\n",
    "\n",
    "# Converts text file to a CSV file\n",
    "def txt_to_csv(txt_file, csv_file):\n",
    "    file = open(txt_file, \"r\")\n",
    "    \n",
    "    reviews = []\n",
    "    current_review = {}\n",
    "\n",
    "    for line in file.readlines():\n",
    "        # Adds current review to reviews when the line is empty\n",
    "        if line.strip() == \"\":\n",
    "            if current_review:\n",
    "                reviews.append(current_review) \n",
    "                current_review = {} \n",
    "        # Otherwise the line is split into a key-value pair\n",
    "        else:\n",
    "            key, value = line.split(\":\", 1)\n",
    "            current_review[key.strip()] = value.strip()\n",
    "\n",
    "    # Adds the last review if there is no empty line at the end of the file\n",
    "    if current_review:\n",
    "        reviews.append(current_review)\n",
    "\n",
    "    # Creates dataframe with the reviews\n",
    "    df = pd.DataFrame(reviews)\n",
    "    \n",
    "    # Creates a csv file with the dataframe\n",
    "    df.to_csv(csv_file, index=False)\n",
    "\n",
    "# Executed code\n",
    "\"\"\"\n",
    "txt_to_csv('data/BeerAdvocate/ratings.txt', 'data/Ratings/BA_ratings.csv')\n",
    "txt_to_csv('data/BeerAdvocate/reviews.txt', 'data/Ratings/BA_reviews.csv')\n",
    "txt_to_csv('data/RateBeer/ratings.txt', 'data/Ratings/RB_ratings.csv')\n",
    "txt_to_csv('data/RateBeer/reviews.txt', 'data/Ratings/RB_reviews.csv')\n",
    "\"\"\""
   ]
  },
  {
   "cell_type": "markdown",
   "metadata": {},
   "source": []
  }
 ],
 "metadata": {
  "kernelspec": {
   "display_name": "ada",
   "language": "python",
   "name": "python3"
  },
  "language_info": {
   "codemirror_mode": {
    "name": "ipython",
    "version": 3
   },
   "file_extension": ".py",
   "mimetype": "text/x-python",
   "name": "python",
   "nbconvert_exporter": "python",
   "pygments_lexer": "ipython3",
   "version": "3.11.9"
  }
 },
 "nbformat": 4,
 "nbformat_minor": 2
}
