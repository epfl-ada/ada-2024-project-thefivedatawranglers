{
 "cells": [
  {
   "cell_type": "code",
   "execution_count": 6,
   "id": "initial_id",
   "metadata": {
    "collapsed": true,
    "ExecuteTime": {
     "end_time": "2024-11-08T19:14:41.639703700Z",
     "start_time": "2024-11-08T19:14:41.636001100Z"
    }
   },
   "outputs": [],
   "source": [
    "import pandas as pd\n",
    "from src.models.experience_words import  *"
   ]
  },
  {
   "cell_type": "code",
   "outputs": [],
   "source": [
    "df_rb_ratings, df_ba_ratings = load_data()"
   ],
   "metadata": {
    "collapsed": false,
    "is_executing": true,
    "ExecuteTime": {
     "start_time": "2024-11-08T19:14:41.639703700Z"
    }
   },
   "id": "2e9e2c42ee88f6f8",
   "execution_count": null
  },
  {
   "cell_type": "code",
   "outputs": [],
   "source": [
    "exp_user_ids_ba = get_experienced_users(df_ba_ratings, exp_words0)\n",
    "df_ba_ratings_of_exp, df_ba_ratings_of_inexp = split_by_experience(df_ba_ratings, exp_user_ids_ba)\n",
    "plot_df, most_rated = calculate_style_distribution(df_ba_ratings_of_exp, df_ba_ratings_of_inexp)\n",
    "plot_style_distribution(plot_df)"
   ],
   "metadata": {
    "collapsed": false,
    "is_executing": true,
    "ExecuteTime": {
     "start_time": "2024-11-08T19:14:17.945520700Z"
    }
   },
   "id": "d71cdb0c4ddb8f61"
  },
  {
   "cell_type": "code",
   "outputs": [],
   "source": [
    "plot_distribution_difference(plot_df)"
   ],
   "metadata": {
    "collapsed": false,
    "is_executing": true,
    "ExecuteTime": {
     "start_time": "2024-11-08T19:14:39.539073900Z"
    }
   },
   "id": "3826f175b3bfea04"
  },
  {
   "cell_type": "code",
   "outputs": [],
   "source": [
    "rating_diff_df = calculate_rating_difference(df_ba_ratings_of_exp, df_ba_ratings_of_inexp, most_rated)\n",
    "plot_combined_distribution_and_rating_difference(plot_df, rating_diff_df)"
   ],
   "metadata": {
    "collapsed": false,
    "is_executing": true,
    "ExecuteTime": {
     "start_time": "2024-11-08T19:14:39.872275800Z"
    }
   },
   "id": "235be9f2c0424b4a"
  }
 ],
 "metadata": {
  "kernelspec": {
   "display_name": "Python 3",
   "language": "python",
   "name": "python3"
  },
  "language_info": {
   "codemirror_mode": {
    "name": "ipython",
    "version": 2
   },
   "file_extension": ".py",
   "mimetype": "text/x-python",
   "name": "python",
   "nbconvert_exporter": "python",
   "pygments_lexer": "ipython2",
   "version": "2.7.6"
  }
 },
 "nbformat": 4,
 "nbformat_minor": 5
}
